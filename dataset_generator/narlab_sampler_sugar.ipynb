{
 "cells": [
  {
   "cell_type": "code",
   "execution_count": 1,
   "id": "constant-maximum",
   "metadata": {},
   "outputs": [],
   "source": [
    "%matplotlib inline\n",
    "\n",
    "from multiprocessing import cpu_count\n",
    "from pathlib import Path\n",
    "\n",
    "import matplotlib.pyplot as plt\n",
    "import numpy as np\n",
    "import pandas as pd\n",
    "from sklearn.model_selection import train_test_split\n",
    "from sklearn.preprocessing import LabelEncoder\n",
    "import torch\n",
    "from torch import nn\n",
    "from torch.nn import functional as F\n",
    "from torch.utils.data import TensorDataset, DataLoader\n",
    "from torch.optim.lr_scheduler import _LRScheduler\n",
    "import netCDF4\n",
    "import xarray as xr\n",
    "\n",
    "import datetime\n",
    "\n",
    "seed = 1\n",
    "np.random.seed(seed)"
   ]
  },
  {
   "cell_type": "code",
   "execution_count": 2,
   "id": "4088a4f3",
   "metadata": {},
   "outputs": [],
   "source": [
    "data = ['../lstm_dataset/20210730_dataset/kpp1_rmmeh/trainSet.nc',\n",
    "        '../lstm_dataset/20210730_dataset/kpp2_rmmeh/trainSet.nc', \n",
    "        '../lstm_dataset/20210730_dataset/central1_rmmeh/trainSet.nc', \n",
    "        '../lstm_dataset/20210730_dataset/central2_rmmeh/trainSet.nc', \n",
    "        #'../lstm_dataset/20210730_dataset/central3_rmmeh/trainSet.nc', \n",
    "        '../lstm_dataset/20210730_dataset/north_eastern1_rmmeh/trainSet.nc', \n",
    "        '../lstm_dataset/20210730_dataset/north_eastern2_rmmeh/trainSet.nc', \n",
    "        '../lstm_dataset/20210730_dataset/north_eastern3_rmmeh/trainSet.nc', \n",
    "        '../lstm_dataset/20210730_dataset/eastern1_rmmeh/trainSet.nc', \n",
    "        '../lstm_dataset/20210730_dataset/eastern2_rmmeh/trainSet.nc'\n",
    "       ]"
   ]
  },
  {
   "cell_type": "code",
   "execution_count": null,
   "id": "3c89ee7e",
   "metadata": {},
   "outputs": [],
   "source": []
  },
  {
   "cell_type": "code",
   "execution_count": 3,
   "id": "c0d79d48",
   "metadata": {},
   "outputs": [],
   "source": [
    "'''\n",
    "'coastal', 'blue', 'green', 'red', 'veg5', 'veg6', 'veg7', 'nir',\n",
    "       'narrow_nir', 'water_vapour', 'swir1', 'swir2', 'SCL', 'WVP',\n",
    "       'AOT'\n",
    "'''\n",
    "\n",
    "def sampling_ds(ds, idx):\n",
    "    coastal = ds['coastal'].sel(location = idx, time=ds.time[:70])/10000\n",
    "    blue = ds['blue'].sel(location = idx, time=ds.time[:70])/10000\n",
    "    green = ds['green'].sel(location = idx, time=ds.time[:70])/10000\n",
    "    red = ds['red'].sel(location = idx, time=ds.time[:70])/10000\n",
    "    veg5 = ds['veg5'].sel(location = idx, time=ds.time[:70])/10000\n",
    "    veg6 = ds['veg6'].sel(location = idx, time=ds.time[:70])/10000\n",
    "    veg7 = ds['veg7'].sel(location = idx, time=ds.time[:70])/10000\n",
    "    nir = ds['nir'].sel(location = idx, time=ds.time[:70])/10000\n",
    "    narrow_nir = ds['narrow_nir'].sel(location = idx, time=ds.time[:70])/10000\n",
    "    water_vapour = ds['water_vapour'].sel(location = idx, time=ds.time[:70])/10000\n",
    "    swir1 = ds['swir1'].sel(location = idx, time=ds.time[:70])/10000\n",
    "    swir2 = ds['swir2'].sel(location = idx, time=ds.time[:70])/10000\n",
    "    SCL = ds['SCL'].sel(location = idx, time=ds.time[:70])\n",
    "    WVP = ds['WVP'].sel(location = idx, time=ds.time[:70])/1000\n",
    "    AOT = ds['AOT'].sel(location = idx, time=ds.time[:70])/1000\n",
    "\n",
    "    ndvi = (nir-red)/(nir+red+.00001)\n",
    "    ndwi = (green-nir)/(green+nir+.00001)\n",
    "\n",
    "    y = ds.y.sel(location=idx)\n",
    "    \n",
    "    tmp_array = np.array([coastal, blue, green, red, veg5, veg6, veg7, nir, \n",
    "                           narrow_nir, water_vapour, swir1, swir2, SCL, WVP, AOT,\n",
    "                           ndvi, ndwi])\n",
    "    \n",
    "    i = ds.row.sel(location=idx)\n",
    "    j = ds.col.sel(location=idx)\n",
    "    position = np.array([i,j])\n",
    "    \n",
    "    lat = ds.latitude.sel(location=idx)\n",
    "    lon = ds.longitude.sel(location=idx)\n",
    "    location = np.array([lat,lon])\n",
    "    \n",
    "    return (tmp_array.transpose((1,0,2)), y.values, position.transpose(), location.transpose(), ds.time.values[:70])"
   ]
  },
  {
   "cell_type": "code",
   "execution_count": 4,
   "id": "d68df5ec",
   "metadata": {},
   "outputs": [
    {
     "name": "stdout",
     "output_type": "stream",
     "text": [
      "read file: ../lstm_dataset/20210730_dataset/kpp1_rmmeh/trainSet.nc\n"
     ]
    },
    {
     "name": "stderr",
     "output_type": "stream",
     "text": [
      "/opt/miniconda/envs/cubeenv/lib/python3.6/site-packages/xarray/backends/plugins.py:61: RuntimeWarning: Engine 'rasterio' loading failed:\n",
      "module 'contextlib' has no attribute 'nullcontext'\n",
      "  warnings.warn(f\"Engine {name!r} loading failed:\\n{ex}\", RuntimeWarning)\n"
     ]
    },
    {
     "name": "stdout",
     "output_type": "stream",
     "text": [
      "read file: ../lstm_dataset/20210730_dataset/kpp2_rmmeh/trainSet.nc\n",
      "read file: ../lstm_dataset/20210730_dataset/central1_rmmeh/trainSet.nc\n",
      "read file: ../lstm_dataset/20210730_dataset/central2_rmmeh/trainSet.nc\n",
      "read file: ../lstm_dataset/20210730_dataset/north_eastern1_rmmeh/trainSet.nc\n",
      "read file: ../lstm_dataset/20210730_dataset/north_eastern2_rmmeh/trainSet.nc\n",
      "read file: ../lstm_dataset/20210730_dataset/north_eastern3_rmmeh/trainSet.nc\n",
      "read file: ../lstm_dataset/20210730_dataset/eastern1_rmmeh/trainSet.nc\n",
      "read file: ../lstm_dataset/20210730_dataset/eastern2_rmmeh/trainSet.nc\n"
     ]
    }
   ],
   "source": [
    "trn_x = None\n",
    "trn_y = None\n",
    "trn_pos = None\n",
    "trn_location = None\n",
    "trn_time = None\n",
    "\n",
    "test_x = None\n",
    "test_y = None\n",
    "test_pos = None\n",
    "test_location = None\n",
    "test_time = None\n",
    "\n",
    "for file in data:\n",
    "    print('read file:', file)\n",
    "    ds = xr.open_dataset(file)\n",
    "    \n",
    "    band = list(ds.keys())\n",
    "    band.append('ndvi')\n",
    "    band.append('ndwi')\n",
    "\n",
    "    y = ds.y.values\n",
    "\n",
    "    other_idx_trn = np.random.choice(np.where(y ==0)[0], 5000)\n",
    "    sugar_idx_trn = np.random.choice(np.where(y ==1)[0], 10000)\n",
    "    rice_idx_trn = np.random.choice(np.where(y ==2)[0], 5000)\n",
    "\n",
    "    other_idx_test = np.random.choice(np.where(y ==0)[0], 5000)\n",
    "    sugar_idx_test = np.random.choice(np.where(y ==1)[0], 10000)\n",
    "    rice_idx_test = np.random.choice(np.where(y ==2)[0], 5000)\n",
    "\n",
    "    trn_idx = np.concatenate([other_idx_trn,sugar_idx_trn,rice_idx_trn])\n",
    "    test_idx = np.concatenate([other_idx_test,sugar_idx_test,rice_idx_test])\n",
    "\n",
    "    (tmp_array, y, position, location, timestamp) = sampling_ds(ds, trn_idx)    \n",
    "    if trn_x is None:\n",
    "        trn_x = tmp_array\n",
    "        trn_y = y\n",
    "        trn_pos = position\n",
    "        trn_location = location\n",
    "        trn_time = timestamp\n",
    "\n",
    "    #elif len(tmp_array) < max_n_sample:\n",
    "    else:\n",
    "        trn_x = np.append(trn_x, tmp_array, axis=0)\n",
    "        trn_y = np.append(trn_y, y, axis=0)\n",
    "        trn_pos = np.append(trn_pos, position, axis=0)\n",
    "        trn_location = np.append(trn_location, location, axis=0)\n",
    "    \n",
    "    \n",
    "    (tmp_array, y, position, location, timestamp) = sampling_ds(ds, test_idx)    \n",
    "    if test_x is None:\n",
    "        test_x = tmp_array\n",
    "        test_y = y\n",
    "        test_pos = position\n",
    "        test_location = location\n",
    "        test_time = timestamp\n",
    "\n",
    "    #elif len(tmp_array) < max_n_sample:\n",
    "    else:\n",
    "        test_x = np.append(test_x, tmp_array, axis=0)\n",
    "        test_y = np.append(test_y, y, axis=0)\n",
    "        test_pos = np.append(test_pos, position, axis=0)\n",
    "        test_location = np.append(test_location, location, axis=0)"
   ]
  },
  {
   "cell_type": "code",
   "execution_count": 5,
   "id": "28219329",
   "metadata": {},
   "outputs": [
    {
     "name": "stdout",
     "output_type": "stream",
     "text": [
      "Shape of x: (180000, 17, 70)\n",
      "Shape of y: (180000,)\n",
      "Shape of position: (180000, 2)\n",
      "Shape of location: (180000, 2)\n",
      "Shape of timstamp: (70,)\n"
     ]
    }
   ],
   "source": [
    "print(\"Shape of x:\", trn_x.shape)\n",
    "print(\"Shape of y:\", trn_y.shape)\n",
    "print(\"Shape of position:\", trn_pos.shape)\n",
    "print(\"Shape of location:\", trn_location.shape)\n",
    "print(\"Shape of timstamp:\", trn_time.shape)"
   ]
  },
  {
   "cell_type": "code",
   "execution_count": 6,
   "id": "615eb152",
   "metadata": {},
   "outputs": [],
   "source": [
    "trn_y[trn_y == 2] = 0\n",
    "test_y[test_y == 2] = 0"
   ]
  },
  {
   "cell_type": "code",
   "execution_count": 7,
   "id": "9568495d",
   "metadata": {},
   "outputs": [],
   "source": [
    "#Save to NPY format\n",
    "np.savez(\"trainSetSugarRMMEH.npz\", x=trn_x, y=trn_y, location=trn_location, position=trn_pos, timestamp = trn_time, bands=np.array(band))\n",
    "np.savez(\"testSetSugarRMMEH.npz\", x=test_x, y=test_y, location=test_location, position=test_pos, timestamp = test_time, bands=np.array(band))"
   ]
  },
  {
   "cell_type": "code",
   "execution_count": null,
   "id": "35c1e27e",
   "metadata": {},
   "outputs": [],
   "source": []
  }
 ],
 "metadata": {
  "kernelspec": {
   "display_name": "Python 3 (ipykernel)",
   "language": "python",
   "name": "python3"
  },
  "language_info": {
   "codemirror_mode": {
    "name": "ipython",
    "version": 3
   },
   "file_extension": ".py",
   "mimetype": "text/x-python",
   "name": "python",
   "nbconvert_exporter": "python",
   "pygments_lexer": "ipython3",
   "version": "3.9.6"
  }
 },
 "nbformat": 4,
 "nbformat_minor": 5
}
