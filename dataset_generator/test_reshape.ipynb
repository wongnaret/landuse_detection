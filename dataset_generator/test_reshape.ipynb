{
 "cells": [
  {
   "cell_type": "code",
   "execution_count": 1,
   "id": "475a636a",
   "metadata": {},
   "outputs": [],
   "source": [
    "import numpy as np"
   ]
  },
  {
   "cell_type": "code",
   "execution_count": 13,
   "id": "55e9c430",
   "metadata": {},
   "outputs": [],
   "source": [
    "#dim: var, time, lat, lon\n",
    "\n",
    "red = np.array([[11, 12,],\n",
    "               [21, 22,],])\n",
    "\n",
    "green = np.array([[18, 19,],\n",
    "               [28, 29,],])\n",
    "\n",
    "data = np.array([[red, red+1, red+2],\n",
    "                [green, green+1, green+2]])\n",
    "\n",
    "\"\"\"\n",
    "data = np.array([[[  1.,  20.],\n",
    "                    [  2.,  21.],\n",
    "                    [  3.,  22.],\n",
    "                    [  4.,  23.]],\n",
    "\n",
    "                   [[  5.,  24.],\n",
    "                    [  6.,  25.],\n",
    "                    [  7.,  26.],\n",
    "                    [  8.,  27.]],\n",
    "\n",
    "                   [[  9.,  28.],\n",
    "                    [ 10.,  29.],\n",
    "                    [ 11.,  30.],\n",
    "                    [ 12.,  31.]]])\n",
    "\"\"\"\n",
    "None"
   ]
  },
  {
   "cell_type": "code",
   "execution_count": 14,
   "id": "7badaf1f",
   "metadata": {},
   "outputs": [
    {
     "data": {
      "text/plain": [
       "array([[[[11, 12],\n",
       "         [21, 22]],\n",
       "\n",
       "        [[12, 13],\n",
       "         [22, 23]],\n",
       "\n",
       "        [[13, 14],\n",
       "         [23, 24]]],\n",
       "\n",
       "\n",
       "       [[[18, 19],\n",
       "         [28, 29]],\n",
       "\n",
       "        [[19, 20],\n",
       "         [29, 30]],\n",
       "\n",
       "        [[20, 21],\n",
       "         [30, 31]]]])"
      ]
     },
     "execution_count": 14,
     "metadata": {},
     "output_type": "execute_result"
    }
   ],
   "source": [
    "data"
   ]
  },
  {
   "cell_type": "code",
   "execution_count": 15,
   "id": "b07178d4",
   "metadata": {},
   "outputs": [
    {
     "data": {
      "text/plain": [
       "(2, 3, 2, 2)"
      ]
     },
     "execution_count": 15,
     "metadata": {},
     "output_type": "execute_result"
    }
   ],
   "source": [
    "data.shape\n"
   ]
  },
  {
   "cell_type": "code",
   "execution_count": 20,
   "id": "0713afa7",
   "metadata": {},
   "outputs": [
    {
     "name": "stdout",
     "output_type": "stream",
     "text": [
      "(4, 3, 2)\n"
     ]
    },
    {
     "data": {
      "text/plain": [
       "array([[[11, 18],\n",
       "        [12, 19],\n",
       "        [13, 20]],\n",
       "\n",
       "       [[12, 19],\n",
       "        [13, 20],\n",
       "        [14, 21]],\n",
       "\n",
       "       [[21, 28],\n",
       "        [22, 29],\n",
       "        [23, 30]],\n",
       "\n",
       "       [[22, 29],\n",
       "        [23, 30],\n",
       "        [24, 31]]])"
      ]
     },
     "execution_count": 20,
     "metadata": {},
     "output_type": "execute_result"
    }
   ],
   "source": [
    "a = np.reshape(data, (2,3,-1), order='C').transpose((2,1,0))\n",
    "print(a.shape)\n",
    "a"
   ]
  },
  {
   "cell_type": "code",
   "execution_count": 19,
   "id": "583d147d",
   "metadata": {},
   "outputs": [
    {
     "data": {
      "text/plain": [
       "(4, 3, 2)"
      ]
     },
     "execution_count": 19,
     "metadata": {},
     "output_type": "execute_result"
    }
   ],
   "source": [
    "a.tranpose(())"
   ]
  },
  {
   "cell_type": "code",
   "execution_count": 22,
   "id": "0e8d5b40",
   "metadata": {},
   "outputs": [],
   "source": [
    "y = np.array([1,2,3,4])"
   ]
  },
  {
   "cell_type": "code",
   "execution_count": 24,
   "id": "ab918106",
   "metadata": {},
   "outputs": [
    {
     "data": {
      "text/plain": [
       "array([[1, 2],\n",
       "       [3, 4]])"
      ]
     },
     "execution_count": 24,
     "metadata": {},
     "output_type": "execute_result"
    }
   ],
   "source": [
    "lat_size = 2\n",
    "np.reshape(y,(lat_size,-1))"
   ]
  },
  {
   "cell_type": "code",
   "execution_count": 8,
   "id": "e67e5d02",
   "metadata": {},
   "outputs": [
    {
     "data": {
      "text/plain": [
       "array([[ 1.,  2.,  3.,  4.],\n",
       "       [ 5.,  6.,  7.,  8.],\n",
       "       [ 9., 10., 11., 12.],\n",
       "       [20., 21., 22., 23.],\n",
       "       [24., 25., 26., 27.],\n",
       "       [28., 29., 30., 31.]])"
      ]
     },
     "execution_count": 8,
     "metadata": {},
     "output_type": "execute_result"
    }
   ],
   "source": [
    "data2D = data.transpose(2,0,1).reshape(-1,data.shape[1])\n",
    "data2D"
   ]
  },
  {
   "cell_type": "code",
   "execution_count": 9,
   "id": "70b6555d",
   "metadata": {},
   "outputs": [
    {
     "data": {
      "text/plain": [
       "(6, 4)"
      ]
     },
     "execution_count": 9,
     "metadata": {},
     "output_type": "execute_result"
    }
   ],
   "source": [
    "data2D.shape\n"
   ]
  },
  {
   "cell_type": "code",
   "execution_count": 10,
   "id": "c6d41133",
   "metadata": {},
   "outputs": [
    {
     "data": {
      "text/plain": [
       "array([[[ 1., 20.],\n",
       "        [ 2., 21.],\n",
       "        [ 3., 22.],\n",
       "        [ 4., 23.]],\n",
       "\n",
       "       [[ 5., 24.],\n",
       "        [ 6., 25.],\n",
       "        [ 7., 26.],\n",
       "        [ 8., 27.]],\n",
       "\n",
       "       [[ 9., 28.],\n",
       "        [10., 29.],\n",
       "        [11., 30.],\n",
       "        [12., 31.]]])"
      ]
     },
     "execution_count": 10,
     "metadata": {},
     "output_type": "execute_result"
    }
   ],
   "source": [
    "data2D.reshape(np.roll(data.shape,1)).transpose(1,2,0)"
   ]
  },
  {
   "cell_type": "code",
   "execution_count": null,
   "id": "f6d1ec27",
   "metadata": {},
   "outputs": [],
   "source": []
  },
  {
   "cell_type": "code",
   "execution_count": null,
   "id": "c1ad4b10",
   "metadata": {},
   "outputs": [],
   "source": []
  },
  {
   "cell_type": "code",
   "execution_count": null,
   "id": "bbf31a31",
   "metadata": {},
   "outputs": [],
   "source": []
  }
 ],
 "metadata": {
  "kernelspec": {
   "display_name": "Python 3",
   "language": "python",
   "name": "python3"
  },
  "language_info": {
   "codemirror_mode": {
    "name": "ipython",
    "version": 3
   },
   "file_extension": ".py",
   "mimetype": "text/x-python",
   "name": "python",
   "nbconvert_exporter": "python",
   "pygments_lexer": "ipython3",
   "version": "3.6.13"
  }
 },
 "nbformat": 4,
 "nbformat_minor": 5
}
