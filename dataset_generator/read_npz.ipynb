{
 "cells": [
  {
   "cell_type": "markdown",
   "metadata": {},
   "source": [
    "# How read npz file and convert to numpy array"
   ]
  },
  {
   "cell_type": "code",
   "execution_count": 1,
   "metadata": {},
   "outputs": [
    {
     "data": {
      "text/plain": [
       "['x', 'y', 'location', 'weeks']"
      ]
     },
     "execution_count": 1,
     "metadata": {},
     "output_type": "execute_result"
    }
   ],
   "source": [
    "import numpy as np\n",
    "\n",
    "inputfile = './20210906_dataset/testSet.npz'\n",
    "#inputfile = './20210906_dataset/trainSet.npz'\n",
    "\n",
    "npzfile = np.load(inputfile, allow_pickle=True)\n",
    "\n",
    "#display all variable in npz\n",
    "npzfile.files"
   ]
  },
  {
   "cell_type": "markdown",
   "metadata": {},
   "source": [
    "## 1. x_set"
   ]
  },
  {
   "cell_type": "code",
   "execution_count": 2,
   "metadata": {},
   "outputs": [
    {
     "data": {
      "text/plain": [
       "(4000, 98)"
      ]
     },
     "execution_count": 2,
     "metadata": {},
     "output_type": "execute_result"
    }
   ],
   "source": [
    "x_set = npzfile['x']\n",
    "x_set.shape"
   ]
  },
  {
   "cell_type": "code",
   "execution_count": 3,
   "metadata": {},
   "outputs": [
    {
     "data": {
      "text/plain": [
       "array([[0.35305171, 0.36305948, 0.38363946, ..., 0.25901657, 0.282713  ,\n",
       "        0.28998319],\n",
       "       [0.37794011, 0.392543  , 0.47613544, ..., 0.51391437, 0.46120672,\n",
       "        0.41333216],\n",
       "       [0.21129252, 0.23120572, 0.24029174, ..., 0.22886625, 0.21125735,\n",
       "        0.21130195],\n",
       "       ...,\n",
       "       [0.6714039 , 0.68167707, 0.73334926, ..., 0.54456205, 0.53718712,\n",
       "        0.53702632],\n",
       "       [0.18861976, 0.19455567, 0.20285442, ..., 0.58536707, 0.57077086,\n",
       "        0.55353971],\n",
       "       [0.31341889, 0.26179435, 0.21742928, ..., 0.27786333, 0.28508746,\n",
       "        0.29354012]])"
      ]
     },
     "execution_count": 3,
     "metadata": {},
     "output_type": "execute_result"
    }
   ],
   "source": [
    "x_set"
   ]
  },
  {
   "cell_type": "markdown",
   "metadata": {},
   "source": [
    "## 2. y_set \n",
    " - 0 :Other\n",
    " - 1 :Sugarcane\n",
    " - 2 :Rice\n",
    " "
   ]
  },
  {
   "cell_type": "code",
   "execution_count": 4,
   "metadata": {},
   "outputs": [
    {
     "data": {
      "text/plain": [
       "(4000,)"
      ]
     },
     "execution_count": 4,
     "metadata": {},
     "output_type": "execute_result"
    }
   ],
   "source": [
    "y_set = npzfile['y']\n",
    "y_set.shape"
   ]
  },
  {
   "cell_type": "code",
   "execution_count": 5,
   "metadata": {},
   "outputs": [
    {
     "data": {
      "text/plain": [
       "array([1, 1, 1, ..., 0, 0, 0])"
      ]
     },
     "execution_count": 5,
     "metadata": {},
     "output_type": "execute_result"
    }
   ],
   "source": [
    "y_set"
   ]
  },
  {
   "cell_type": "markdown",
   "metadata": {},
   "source": [
    "## 3. Location\n",
    "list of (lat, lon)"
   ]
  },
  {
   "cell_type": "code",
   "execution_count": 6,
   "metadata": {},
   "outputs": [
    {
     "data": {
      "text/plain": [
       "(4000, 2)"
      ]
     },
     "execution_count": 6,
     "metadata": {},
     "output_type": "execute_result"
    }
   ],
   "source": [
    "location = npzfile['location']\n",
    "location.shape"
   ]
  },
  {
   "cell_type": "code",
   "execution_count": 7,
   "metadata": {},
   "outputs": [
    {
     "data": {
      "text/plain": [
       "array([[16.4549737, 99.8181237],\n",
       "       [16.4444173, 99.7224679],\n",
       "       [16.4732159, 99.8221055],\n",
       "       ...,\n",
       "       [16.5121079, 99.8216425],\n",
       "       [16.5502591, 99.8490521],\n",
       "       [16.4999773, 99.8505337]])"
      ]
     },
     "execution_count": 7,
     "metadata": {},
     "output_type": "execute_result"
    }
   ],
   "source": [
    "location"
   ]
  },
  {
   "cell_type": "markdown",
   "metadata": {},
   "source": [
    "## 4. weeks\n",
    "timestamp index for ndvi vaules, list of [year]-[week_of_year] string format \n"
   ]
  },
  {
   "cell_type": "code",
   "execution_count": 8,
   "metadata": {},
   "outputs": [
    {
     "data": {
      "text/plain": [
       "(98,)"
      ]
     },
     "execution_count": 8,
     "metadata": {},
     "output_type": "execute_result"
    }
   ],
   "source": [
    "weeks_of_year = npzfile['weeks']\n",
    "weeks_of_year.shape"
   ]
  },
  {
   "cell_type": "code",
   "execution_count": 9,
   "metadata": {},
   "outputs": [
    {
     "data": {
      "text/plain": [
       "array(['2019-18', '2019-19', '2019-20', '2019-21', '2019-22', '2019-23',\n",
       "       '2019-24', '2019-25', '2019-26', '2019-27', '2019-28', '2019-29',\n",
       "       '2019-30', '2019-31', '2019-32', '2019-33', '2019-34', '2019-35',\n",
       "       '2019-36', '2019-37', '2019-38', '2019-39', '2019-40', '2019-41',\n",
       "       '2019-42', '2019-43', '2019-44', '2019-45', '2019-46', '2019-47',\n",
       "       '2019-48', '2019-49', '2019-50', '2019-51', '2019-52', '2020-01',\n",
       "       '2020-02', '2020-03', '2020-04', '2020-05', '2020-06', '2020-07',\n",
       "       '2020-08', '2020-09', '2020-10', '2020-11', '2020-12', '2020-13',\n",
       "       '2020-14', '2020-15', '2020-16', '2020-17', '2020-18', '2020-19',\n",
       "       '2020-20', '2020-21', '2020-22', '2020-23', '2020-24', '2020-25',\n",
       "       '2020-26', '2020-27', '2020-28', '2020-29', '2020-30', '2020-31',\n",
       "       '2020-32', '2020-33', '2020-34', '2020-35', '2020-36', '2020-37',\n",
       "       '2020-38', '2020-39', '2020-40', '2020-41', '2020-42', '2020-43',\n",
       "       '2020-44', '2020-45', '2020-46', '2020-47', '2020-48', '2020-49',\n",
       "       '2020-50', '2020-51', '2020-52', '2021-01', '2021-02', '2021-03',\n",
       "       '2021-04', '2021-05', '2021-06', '2021-07', '2021-08', '2021-09',\n",
       "       '2021-10', '2021-11'], dtype=object)"
      ]
     },
     "execution_count": 9,
     "metadata": {},
     "output_type": "execute_result"
    }
   ],
   "source": [
    "weeks_of_year"
   ]
  },
  {
   "cell_type": "markdown",
   "metadata": {},
   "source": [
    "# How to reshape x_set\n",
    "## 1. Original x_set from npz \n",
    "The data is stored as dimension structure of (n_sample, ndvi_values)"
   ]
  },
  {
   "cell_type": "code",
   "execution_count": 10,
   "metadata": {},
   "outputs": [
    {
     "data": {
      "text/plain": [
       "(4000, 98)"
      ]
     },
     "execution_count": 10,
     "metadata": {},
     "output_type": "execute_result"
    }
   ],
   "source": [
    "x_set.shape"
   ]
  },
  {
   "cell_type": "markdown",
   "metadata": {},
   "source": [
    "which means the data contains 4000 rows of 98 weeks ndvi data"
   ]
  },
  {
   "cell_type": "code",
   "execution_count": 11,
   "metadata": {},
   "outputs": [
    {
     "data": {
      "text/plain": [
       "array([[0.35305171, 0.36305948, 0.38363946, ..., 0.25901657, 0.282713  ,\n",
       "        0.28998319],\n",
       "       [0.37794011, 0.392543  , 0.47613544, ..., 0.51391437, 0.46120672,\n",
       "        0.41333216],\n",
       "       [0.21129252, 0.23120572, 0.24029174, ..., 0.22886625, 0.21125735,\n",
       "        0.21130195],\n",
       "       ...,\n",
       "       [0.6714039 , 0.68167707, 0.73334926, ..., 0.54456205, 0.53718712,\n",
       "        0.53702632],\n",
       "       [0.18861976, 0.19455567, 0.20285442, ..., 0.58536707, 0.57077086,\n",
       "        0.55353971],\n",
       "       [0.31341889, 0.26179435, 0.21742928, ..., 0.27786333, 0.28508746,\n",
       "        0.29354012]])"
      ]
     },
     "execution_count": 11,
     "metadata": {},
     "output_type": "execute_result"
    }
   ],
   "source": [
    "x_set"
   ]
  },
  {
   "cell_type": "markdown",
   "metadata": {},
   "source": [
    "## 2. Reshape to n_sample, timestamp, ndvi\n"
   ]
  },
  {
   "cell_type": "code",
   "execution_count": 12,
   "metadata": {},
   "outputs": [
    {
     "name": "stdout",
     "output_type": "stream",
     "text": [
      "shape: (4000, 98, 1)\n"
     ]
    },
    {
     "data": {
      "text/plain": [
       "array([[[0.35305171],\n",
       "        [0.36305948],\n",
       "        [0.38363946],\n",
       "        ...,\n",
       "        [0.25901657],\n",
       "        [0.282713  ],\n",
       "        [0.28998319]],\n",
       "\n",
       "       [[0.37794011],\n",
       "        [0.392543  ],\n",
       "        [0.47613544],\n",
       "        ...,\n",
       "        [0.51391437],\n",
       "        [0.46120672],\n",
       "        [0.41333216]],\n",
       "\n",
       "       [[0.21129252],\n",
       "        [0.23120572],\n",
       "        [0.24029174],\n",
       "        ...,\n",
       "        [0.22886625],\n",
       "        [0.21125735],\n",
       "        [0.21130195]],\n",
       "\n",
       "       ...,\n",
       "\n",
       "       [[0.6714039 ],\n",
       "        [0.68167707],\n",
       "        [0.73334926],\n",
       "        ...,\n",
       "        [0.54456205],\n",
       "        [0.53718712],\n",
       "        [0.53702632]],\n",
       "\n",
       "       [[0.18861976],\n",
       "        [0.19455567],\n",
       "        [0.20285442],\n",
       "        ...,\n",
       "        [0.58536707],\n",
       "        [0.57077086],\n",
       "        [0.55353971]],\n",
       "\n",
       "       [[0.31341889],\n",
       "        [0.26179435],\n",
       "        [0.21742928],\n",
       "        ...,\n",
       "        [0.27786333],\n",
       "        [0.28508746],\n",
       "        [0.29354012]]])"
      ]
     },
     "execution_count": 12,
     "metadata": {},
     "output_type": "execute_result"
    }
   ],
   "source": [
    "option1 = x_set.reshape(4000, 98, 1)\n",
    "\n",
    "print(\"shape:\",option1.shape)\n",
    "\n",
    "option1"
   ]
  },
  {
   "cell_type": "markdown",
   "metadata": {},
   "source": [
    "## 3. Reshape to n_sample, ndvi, time"
   ]
  },
  {
   "cell_type": "code",
   "execution_count": 13,
   "metadata": {},
   "outputs": [
    {
     "name": "stdout",
     "output_type": "stream",
     "text": [
      "shape: (4000, 1, 98)\n"
     ]
    },
    {
     "data": {
      "text/plain": [
       "array([[[0.35305171, 0.36305948, 0.38363946, ..., 0.25901657,\n",
       "         0.282713  , 0.28998319]],\n",
       "\n",
       "       [[0.37794011, 0.392543  , 0.47613544, ..., 0.51391437,\n",
       "         0.46120672, 0.41333216]],\n",
       "\n",
       "       [[0.21129252, 0.23120572, 0.24029174, ..., 0.22886625,\n",
       "         0.21125735, 0.21130195]],\n",
       "\n",
       "       ...,\n",
       "\n",
       "       [[0.6714039 , 0.68167707, 0.73334926, ..., 0.54456205,\n",
       "         0.53718712, 0.53702632]],\n",
       "\n",
       "       [[0.18861976, 0.19455567, 0.20285442, ..., 0.58536707,\n",
       "         0.57077086, 0.55353971]],\n",
       "\n",
       "       [[0.31341889, 0.26179435, 0.21742928, ..., 0.27786333,\n",
       "         0.28508746, 0.29354012]]])"
      ]
     },
     "execution_count": 13,
     "metadata": {},
     "output_type": "execute_result"
    }
   ],
   "source": [
    "option2 = x_set.reshape(4000, 1, 98)\n",
    "\n",
    "print(\"shape:\",option2.shape)\n",
    "\n",
    "option2"
   ]
  },
  {
   "cell_type": "code",
   "execution_count": null,
   "metadata": {},
   "outputs": [],
   "source": []
  },
  {
   "cell_type": "code",
   "execution_count": null,
   "metadata": {},
   "outputs": [],
   "source": []
  }
 ],
 "metadata": {
  "kernelspec": {
   "display_name": "Python 3",
   "language": "python",
   "name": "python3"
  },
  "language_info": {
   "codemirror_mode": {
    "name": "ipython",
    "version": 3
   },
   "file_extension": ".py",
   "mimetype": "text/x-python",
   "name": "python",
   "nbconvert_exporter": "python",
   "pygments_lexer": "ipython3",
   "version": "3.6.9"
  }
 },
 "nbformat": 4,
 "nbformat_minor": 4
}
