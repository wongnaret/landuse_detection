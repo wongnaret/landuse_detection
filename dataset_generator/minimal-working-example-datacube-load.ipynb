{
 "cells": [
  {
   "cell_type": "code",
   "execution_count": null,
   "id": "78bc9f30",
   "metadata": {},
   "outputs": [],
   "source": [
    "import datacube\n",
    "dc = datacube.Datacube()\n",
    "data = {}"
   ]
  },
  {
   "cell_type": "markdown",
   "id": "e23d9c25",
   "metadata": {},
   "source": [
    "# Example 1: load sentinel2 data\n",
    "\n",
    "This is an indexed product, we need to specify `output_crs` and `resolution` when loading.\n",
    "Note how the first component of resolution (latitude direction) is negative for most CRS.\n",
    "See also: https://datacube-core.readthedocs.io/en/latest/dev/api/generate/datacube.Datacube.load.html"
   ]
  },
  {
   "cell_type": "code",
   "execution_count": null,
   "id": "eb3cea0d",
   "metadata": {},
   "outputs": [],
   "source": [
    "data['sentinel2'] = dc.load(\n",
    "    product = 'sentinel2',\n",
    "    latitude=(14.02,14.12),longitude=(100.52,100.62), # Rungsit (รังสิด), where NECTEC is located\n",
    "    time='2021-02-05',\n",
    "    output_crs = 'EPSG:4326', # world wide coordinates system with unit in latitude, longitude degrees\n",
    "    # 10m resolution. see: https://www.usna.edu/Users/oceano/pguth/md_help/html/approx_equivalents.htm\n",
    "    resolution = (-9.26e-05,9.26e-05),\n",
    ")\n",
    "# Band 8 of sentinel2 is Near Infrared (NIR).\n",
    "# Convert it to reflectance value in range [0,1] (This is satellite specific)\n",
    "# The conversion factor is practically constant, but the document don't guarantee it.\n",
    "sentinel2_band8_reflectance = data['sentinel2'].data_vars['B08_10m'][0,:,:] / 10000\n",
    "sentinel2_band8_reflectance.plot()"
   ]
  },
  {
   "cell_type": "markdown",
   "id": "a149870f",
   "metadata": {},
   "source": [
    "# Example 2: load sentinel2_ingested data\n",
    "\n",
    "This is an ingested product. It should load somewhat faster than the above. Ingested product are also give the 'default' `output_crs` and `resolution` so you don't need to specify them. However, not all of sentinel2 datasets will be available as ingested format at once due to storage limitations. Only the frequently used datasets will be so."
   ]
  },
  {
   "cell_type": "code",
   "execution_count": null,
   "id": "26e32458",
   "metadata": {},
   "outputs": [],
   "source": [
    "data['sentinel2_ingestion'] = dc.load(\n",
    "    product = 'sentinel2_ingestion',\n",
    "    latitude = (16.5354, 16.5634), longitude = (99.6901, 99.7251),\n",
    "    time = '2021-05',\n",
    ")\n",
    "# Near Infrared (NIR) of sentinel2_ingestion is simply named 'nir' as there is only one resolution to choose from.\n",
    "# Convert it to reflectance value in range [0,1] (This is satellite specific)\n",
    "# The conversion factor is practically constant, but the document don't guarantee it.\n",
    "sentinel2_ingestion_nir_reflectance = data['sentinel2_ingestion'].data_vars['nir'][0,:,:] / 10000\n",
    "sentinel2_ingestion_nir_reflectance.plot()"
   ]
  },
  {
   "cell_type": "markdown",
   "id": "8d2d9428",
   "metadata": {},
   "source": [
    "# Example 3: load landsat8 data\n",
    "\n",
    "let's try loading in CRS which we can calculate area in **meters**."
   ]
  },
  {
   "cell_type": "code",
   "execution_count": null,
   "id": "statistical-survival",
   "metadata": {},
   "outputs": [],
   "source": [
    "data = dc.load(\n",
    "    product='landsat8',\n",
    "    latitude=(14.02,14.12),longitude=(100.52,100.62), # Rungsit (รังสิด), where NECTEC is located\n",
    "    time='2021-02-05',\n",
    "    output_crs = 'EPSG:3857', # world wide coordinates system with unit in meters\n",
    "    resolution = (-30,30), # 30m resolution\n",
    ")\n",
    "# Band 5 of landsat8 is Near Infrared (NIR).\n",
    "# Convert it to reflectance value in range [0,1] (This is satellite specific)\n",
    "# The conversion factor is practically constant, but the document don't guarantee it.\n",
    "reflectance_b5 = data.data_vars['5'][0,:,:] * 2.0000E-05 - 0.1\n",
    "# plants reflects more NIR than road and rivers\n",
    "reflectance_b5.plot()"
   ]
  }
 ],
 "metadata": {
  "kernelspec": {
   "display_name": "Python 3",
   "language": "python",
   "name": "python3"
  },
  "language_info": {
   "codemirror_mode": {
    "name": "ipython",
    "version": 3
   },
   "file_extension": ".py",
   "mimetype": "text/x-python",
   "name": "python",
   "nbconvert_exporter": "python",
   "pygments_lexer": "ipython3",
   "version": "3.6.13"
  }
 },
 "nbformat": 4,
 "nbformat_minor": 5
}
