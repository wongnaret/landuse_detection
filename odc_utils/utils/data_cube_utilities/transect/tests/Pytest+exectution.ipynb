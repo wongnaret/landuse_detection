{
 "cells": [
  {
   "cell_type": "code",
   "execution_count": 3,
   "metadata": {},
   "outputs": [
    {
     "name": "stdout",
     "output_type": "stream",
     "text": [
      "Requirement already satisfied: pytest in /home/localuser/Datacube/datacube_env/lib/python3.4/site-packages\n",
      "Requirement already satisfied: six>=1.10.0 in /home/localuser/Datacube/datacube_env/lib/python3.4/site-packages (from pytest)\n",
      "Requirement already satisfied: attrs>=17.2.0 in /home/localuser/Datacube/datacube_env/lib/python3.4/site-packages (from pytest)\n",
      "Requirement already satisfied: py>=1.5.0 in /home/localuser/Datacube/datacube_env/lib/python3.4/site-packages (from pytest)\n",
      "Requirement already satisfied: setuptools in /home/localuser/Datacube/datacube_env/lib/python3.4/site-packages (from pytest)\n",
      "Requirement already satisfied: pluggy<0.7,>=0.5 in /home/localuser/Datacube/datacube_env/lib/python3.4/site-packages (from pytest)\n"
     ]
    }
   ],
   "source": [
    "!pip install pytest"
   ]
  },
  {
   "cell_type": "code",
   "execution_count": 4,
   "metadata": {},
   "outputs": [
    {
     "name": "stdout",
     "output_type": "stream",
     "text": [
      "\u001b[1m============================= test session starts ==============================\u001b[0m\n",
      "platform linux -- Python 3.4.3, pytest-3.3.2, py-1.5.2, pluggy-0.6.0\n",
      "rootdir: /home/local/AMA-INC/owagner/work/data_cube_notebooks_transect/utils/data_cube_utilities/transect/tests, inifile:\n",
      "collected 24 items                                                             \u001b[0m\u001b[1m\u001b[1m\n",
      "\n",
      "test_interpolate.py ........\u001b[36m                                             [ 33%]\u001b[0m\n",
      "test_linescan.py ................\u001b[36m                                        [100%]\u001b[0m\n",
      "\n",
      "\u001b[1m\u001b[32m========================== 24 passed in 0.11 seconds ===========================\u001b[0m\n"
     ]
    }
   ],
   "source": [
    "!pytest"
   ]
  },
  {
   "cell_type": "code",
   "execution_count": null,
   "metadata": {},
   "outputs": [],
   "source": []
  }
 ],
 "metadata": {
  "kernelspec": {
   "display_name": "Python 3",
   "language": "python",
   "name": "python3"
  },
  "language_info": {
   "codemirror_mode": {
    "name": "ipython",
    "version": 3
   },
   "file_extension": ".py",
   "mimetype": "text/x-python",
   "name": "python",
   "nbconvert_exporter": "python",
   "pygments_lexer": "ipython3",
   "version": "3.4.3"
  }
 },
 "nbformat": 4,
 "nbformat_minor": 2
}
