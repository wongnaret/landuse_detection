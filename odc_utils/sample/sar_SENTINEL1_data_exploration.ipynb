{
 "cells": [
  {
   "cell_type": "code",
   "execution_count": null,
   "metadata": {},
   "outputs": [],
   "source": [
    "import numpy as np"
   ]
  },
  {
   "cell_type": "markdown",
   "metadata": {},
   "source": [
    "# Sentinel_1_GRD"
   ]
  },
  {
   "cell_type": "markdown",
   "metadata": {},
   "source": [
    "## Define Area Extents  "
   ]
  },
  {
   "cell_type": "code",
   "execution_count": null,
   "metadata": {},
   "outputs": [],
   "source": [
    "from datetime import datetime\n",
    "# That I can sqap areas\n",
    "vietnam_extent = dict(\n",
    "    lat  = (10.9348, 11.0190),\n",
    "    lon  = (107.8164, 107.9168),\n",
    "    time = (datetime(2015,1,1), datetime(2017,1,1)),\n",
    ")\n",
    "\n",
    "menindee_extent = dict(\n",
    "    lat = ( -32.420,-32.272),\n",
    "    lon = (142.2348, 142.407),\n",
    ")\n",
    "\n",
    "extent = menindee_extent"
   ]
  },
  {
   "cell_type": "markdown",
   "metadata": {},
   "source": [
    "A quick visualization of the area before it is loaded through the datacube "
   ]
  },
  {
   "cell_type": "code",
   "execution_count": null,
   "metadata": {},
   "outputs": [],
   "source": [
    "from utils.data_cube_utilities.dc_display_map import display_map\n",
    "\n",
    "display_map(latitude  = extent['lat'],\n",
    "            longitude = extent['lon'])  "
   ]
  },
  {
   "cell_type": "markdown",
   "metadata": {},
   "source": [
    "# Display Available Products. Pick a product to load. \n",
    "The following code loads a datacube object. Loads a list of available products, and filters in favor of products containing the word `s1`. "
   ]
  },
  {
   "cell_type": "code",
   "execution_count": null,
   "metadata": {},
   "outputs": [],
   "source": [
    "import datacube\n",
    "dc = datacube.Datacube()\n",
    "\n",
    "products = dc.list_products()\n",
    "products[products['name'].str.contains(\"s1\")]  "
   ]
  },
  {
   "cell_type": "markdown",
   "metadata": {},
   "source": [
    "# Define a product and platform "
   ]
  },
  {
   "cell_type": "code",
   "execution_count": null,
   "metadata": {},
   "outputs": [],
   "source": [
    "menindee_extent[\"product\"]  = \"s1_gamma0_menindee_lakes\"\n",
    "menindee_extent[\"platform\"] = \"SENTINEL_1\"\n",
    "\n",
    "vietnam_extent[\"product\"]   = \"s1_gamma0_vietnam\"\n",
    "vietnam_extent[\"platform\"]  = \"SENTINEL_1\""
   ]
  },
  {
   "cell_type": "markdown",
   "metadata": {},
   "source": [
    "# View basic metadata about this product"
   ]
  },
  {
   "cell_type": "code",
   "execution_count": null,
   "metadata": {},
   "outputs": [],
   "source": [
    "from utils.data_cube_utilities.data_access_api import DataAccessApi\n",
    "dca = DataAccessApi()\n",
    "\n",
    "dca.get_query_metadata(platform = extent[\"platform\"],\n",
    "                       product  = extent[\"product\"])"
   ]
  },
  {
   "cell_type": "code",
   "execution_count": null,
   "metadata": {},
   "outputs": [],
   "source": [
    "product_details = dc.list_products()[dc.list_products().name ==extent[\"product\"]]\n",
    "product_details"
   ]
  },
  {
   "cell_type": "markdown",
   "metadata": {},
   "source": [
    "# Load Data  \n"
   ]
  },
  {
   "cell_type": "code",
   "execution_count": null,
   "metadata": {},
   "outputs": [],
   "source": [
    "import datacube\n",
    "dc = datacube.Datacube()\n",
    "\n",
    "dataset = dc.load(**extent)"
   ]
  },
  {
   "cell_type": "code",
   "execution_count": null,
   "metadata": {},
   "outputs": [],
   "source": [
    "dataset"
   ]
  },
  {
   "cell_type": "markdown",
   "metadata": {},
   "source": [
    "# View an acquisition in dataset"
   ]
  },
  {
   "cell_type": "code",
   "execution_count": null,
   "metadata": {},
   "outputs": [],
   "source": [
    "first_slice = dataset.isel(time = 1) # iselect selects by index, rather than value."
   ]
  },
  {
   "cell_type": "markdown",
   "metadata": {},
   "source": [
    " "
   ]
  },
  {
   "cell_type": "code",
   "execution_count": null,
   "metadata": {},
   "outputs": [],
   "source": [
    "first_slice"
   ]
  },
  {
   "cell_type": "markdown",
   "metadata": {},
   "source": [
    "> Helper function for plotting"
   ]
  },
  {
   "cell_type": "code",
   "execution_count": null,
   "metadata": {},
   "outputs": [],
   "source": [
    "def figure_ratio(ds, fixed_width = 20):\n",
    "    width = fixed_width\n",
    "    height = len(ds.latitude) * (fixed_width / len(ds.longitude))\n",
    "    return (width, height)"
   ]
  },
  {
   "cell_type": "markdown",
   "metadata": {},
   "source": [
    "### plot vh\n",
    "A few outliers might distort the output. The following code will plot `vh` bands on a logarithmic scale"
   ]
  },
  {
   "cell_type": "code",
   "execution_count": null,
   "metadata": {},
   "outputs": [],
   "source": [
    "%matplotlib inline\n",
    "np.log10(first_slice.vh).plot(cmap = \"Greys\", figsize = figure_ratio(first_slice))"
   ]
  },
  {
   "cell_type": "markdown",
   "metadata": {},
   "source": [
    "### plot vv\n",
    "A few outliers might distort the output. The following code will plot `vh` bands on a logarithmic scale"
   ]
  },
  {
   "cell_type": "code",
   "execution_count": null,
   "metadata": {},
   "outputs": [],
   "source": [
    "np.log10(first_slice.vv).plot(cmap = \"Greys\",figsize = figure_ratio(first_slice))"
   ]
  },
  {
   "cell_type": "markdown",
   "metadata": {},
   "source": [
    "### plot vv/vh"
   ]
  },
  {
   "cell_type": "markdown",
   "metadata": {},
   "source": [
    "#### Define ratio function\n",
    "This is a very simple function. It's defined in this notebook just to show how how arithmetic operations scale on an xarray datasets and how to add/augment a dataset with synthetic variables\n",
    "<br>  \n",
    "$$ dataset_{a\\_per\\_b} = \\frac{dataset_a}{dataset_b} $$  \n",
    "  \n",
    "<br>"
   ]
  },
  {
   "cell_type": "code",
   "execution_count": null,
   "metadata": {},
   "outputs": [],
   "source": [
    "import xarray as xr \n",
    "def augment_dataset_with_ratio(ds: xr.Dataset, band_name_1: str, band_name_2 :str) -> xr.Dataset:\n",
    "    a_per_b = (ds[band_name_1]/ds[band_name_2])\n",
    "    a_per_b = a_per_b.to_dataset(name = '{b1}_per_{b2}'.format(b1 = band_name_1, b2 = band_name_2)) # turn xarray.dataarray into xarray dataset and name dataset variable.\n",
    "    return ds.merge(a_per_b)"
   ]
  },
  {
   "cell_type": "markdown",
   "metadata": {},
   "source": [
    "<br> \n",
    "<br> \n",
    "\n",
    "Apply function and display new `xarray.Dataset`  \n",
    "<br> \n"
   ]
  },
  {
   "cell_type": "code",
   "execution_count": null,
   "metadata": {},
   "outputs": [],
   "source": [
    "first_slice = augment_dataset_with_ratio(first_slice, \"vv\", \"vh\")\n",
    "first_slice = augment_dataset_with_ratio(first_slice, \"vh\", \"vv\")\n",
    "\n",
    "print(first_slice)"
   ]
  },
  {
   "cell_type": "code",
   "execution_count": null,
   "metadata": {},
   "outputs": [],
   "source": [
    "np.log10(first_slice.vv_per_vh).plot(cmap = \"Greys\", figsize = figure_ratio(first_slice))"
   ]
  },
  {
   "cell_type": "markdown",
   "metadata": {},
   "source": [
    "### plot false color\n",
    "\n",
    "The function below defines a basic normalization and plotting function for xarrays. I would not recommend re-using this unless you understand your data in great enough detail to determine that this suites your needs. This is a first pass at including a plotting utility in our S1 analysis workflow. The canonical approach or desired results would be something along the lines of following established processing methods used in something like ESA's [Sentinel-1 Toolbox](http://seom.esa.int/landtraining2015/files/Day_5/D5P1a_LTC2015_Foumelis.pdf) or from the [Sentinel Callibration Guide](https://sentinel.esa.int/documents/247904/685163/S1-Radiometric-Calibration-V1.0.pdf)."
   ]
  },
  {
   "cell_type": "code",
   "execution_count": null,
   "metadata": {},
   "outputs": [],
   "source": [
    "import numpy as np\n",
    "import xarray as xr\n",
    "\n",
    "def build_rgb_from_ds(_dataset: xr.Dataset,\n",
    "                      r:str = None,\n",
    "                      g:str = None,\n",
    "                      b:str = None, \n",
    "                      logarithmic_scale_enabled = False):\n",
    "    \n",
    "    norm = _dataset.copy()\n",
    "\n",
    "    if logarithmic_scale_enabled == True:\n",
    "        norm[r] = np.log10(norm[r]) \n",
    "        norm[g] = np.log10(norm[g]) \n",
    "        norm[b] = np.log10(norm[b]) \n",
    "\n",
    "    norm = (255 * _dataset/_dataset.max()).astype(np.uint16)\n",
    "    \n",
    "    _r = norm[r].values #.astype(np.float32)\n",
    "    _g = norm[g].values #.astype(np.float32)\n",
    "    _b = norm[b].values #_per_vh.astype(np.float32)\n",
    "    _rgb = np.dstack([_r,_g,_b])\n",
    "    return _rgb"
   ]
  },
  {
   "cell_type": "code",
   "execution_count": null,
   "metadata": {},
   "outputs": [],
   "source": [
    "rgb = build_rgb_from_ds(first_slice,\n",
    "                        r = \"vv\", \n",
    "                        g = \"vh\",\n",
    "                        b = \"vv_per_vh\")"
   ]
  },
  {
   "cell_type": "markdown",
   "metadata": {},
   "source": [
    "<br>"
   ]
  },
  {
   "cell_type": "code",
   "execution_count": null,
   "metadata": {},
   "outputs": [],
   "source": [
    "import matplotlib.pyplot as plt\n",
    "plt.figure( figsize = figure_ratio(first_slice))\n",
    "plt.imshow( rgb )"
   ]
  },
  {
   "cell_type": "markdown",
   "metadata": {},
   "source": [
    "<br>  \n",
    "# Build a median value composite(mosaic) for your time series \n",
    "\n",
    "The following section gets messy. We build a mosaic peice by peice, rather than all at once. This employs a chunking processes whereby small extents are queried and processed.  "
   ]
  },
  {
   "cell_type": "code",
   "execution_count": null,
   "metadata": {},
   "outputs": [],
   "source": [
    "from utils.data_cube_utilities.dc_chunker import create_geographic_chunks, combine_geographic_chunks\n",
    "\n",
    "geographic_chunks = create_geographic_chunks(latitude=extent[\"lat\"], longitude=extent[\"lon\"], geographic_chunk_size=.05)"
   ]
  },
  {
   "cell_type": "markdown",
   "metadata": {},
   "source": [
    "<br>"
   ]
  },
  {
   "cell_type": "code",
   "execution_count": null,
   "metadata": {},
   "outputs": [],
   "source": [
    "for x in geographic_chunks:\n",
    "    print(x)"
   ]
  },
  {
   "cell_type": "markdown",
   "metadata": {},
   "source": [
    "<br>  "
   ]
  },
  {
   "cell_type": "code",
   "execution_count": null,
   "metadata": {},
   "outputs": [],
   "source": [
    "from utils.data_cube_utilities.dc_mosaic import create_median_mosaic\n",
    "from utils.data_cube_utilities.dc_sar_utils import dn_to_db \n",
    "import warnings\n",
    "warnings.filterwarnings(\"ignore\")\n",
    "\n",
    "import numpy as np  \n",
    "\n",
    "measurements = ['vv', 'vh']\n",
    "product_chunks = []\n",
    "\n",
    "# This part is unpythonic but explicit\n",
    "for index, chunk in enumerate(geographic_chunks):\n",
    "    data = dca.get_dataset_by_extent(extent[\"product\"], \n",
    "                                    longitude=chunk['longitude'], latitude=chunk['latitude'], \n",
    "                                    measurements=measurements)\n",
    "    if 'vv' in data:\n",
    "        product_chunks.append(create_median_mosaic(data, clean_mask=np.full((data.vv.shape), True), dtype=\"float32\", no_data=0))\n",
    "        \n",
    "\n",
    "final_mosaic = combine_geographic_chunks(product_chunks)\n"
   ]
  },
  {
   "cell_type": "code",
   "execution_count": null,
   "metadata": {},
   "outputs": [],
   "source": [
    "final_mosaic"
   ]
  },
  {
   "cell_type": "code",
   "execution_count": null,
   "metadata": {},
   "outputs": [],
   "source": [
    "final_mosaic = augment_dataset_with_ratio(final_mosaic, \"vv\", \"vh\")\n",
    "final_mosaic = augment_dataset_with_ratio(final_mosaic, \"vh\", \"vv\")"
   ]
  },
  {
   "cell_type": "code",
   "execution_count": null,
   "metadata": {},
   "outputs": [],
   "source": [
    "final_mosaic"
   ]
  },
  {
   "cell_type": "markdown",
   "metadata": {},
   "source": [
    "### Plot Median Composite"
   ]
  },
  {
   "cell_type": "code",
   "execution_count": null,
   "metadata": {},
   "outputs": [],
   "source": [
    "rgb = build_rgb_from_ds(final_mosaic,\n",
    "                        r = \"vv\", \n",
    "                        g = \"vh\",\n",
    "                        b = \"vh_per_vv\")"
   ]
  },
  {
   "cell_type": "code",
   "execution_count": null,
   "metadata": {},
   "outputs": [],
   "source": [
    "import matplotlib.pyplot as plt\n",
    "plt.figure( figsize = figure_ratio(final_mosaic))\n",
    "plt.imshow( rgb )"
   ]
  },
  {
   "cell_type": "markdown",
   "metadata": {},
   "source": [
    "# Pixel Drill Analysis\n"
   ]
  },
  {
   "cell_type": "code",
   "execution_count": null,
   "metadata": {},
   "outputs": [],
   "source": [
    "dataset = augment_dataset_with_ratio(dataset, \"vv\", \"vh\") ## Compute VV/VH for entire dataset rather than just a slice(see section above)"
   ]
  },
  {
   "cell_type": "markdown",
   "metadata": {},
   "source": [
    "\n",
    "### Chose a pixel  \n",
    "Choose a pixel  from the bounded box below (A click will reveal lat and lon coordinates)     \n",
    "<br> "
   ]
  },
  {
   "cell_type": "code",
   "execution_count": null,
   "metadata": {},
   "outputs": [],
   "source": [
    "display_map(latitude  = extent['lat'], longitude = extent['lon'])  "
   ]
  },
  {
   "cell_type": "code",
   "execution_count": null,
   "metadata": {},
   "outputs": [],
   "source": [
    "# Lat and Lon coordinates extracted from the map above \n",
    "pixel_lat = -32.3626 #Menindee\n",
    "pixel_lon = 142.2764 #Menindee\n",
    "\n",
    "pixel_lat = 11.1306\n",
    "pixel_lon = 107.6052"
   ]
  },
  {
   "cell_type": "markdown",
   "metadata": {},
   "source": [
    "Select a pixel from our `xarray.Dataset` using nearest neighbor.  "
   ]
  },
  {
   "cell_type": "code",
   "execution_count": null,
   "metadata": {},
   "outputs": [],
   "source": [
    "pixel = dataset.sel(latitude  = pixel_lat,\n",
    "                    longitude = pixel_lon,\n",
    "                    method = 'nearest') # nearest neighbor selection  "
   ]
  },
  {
   "cell_type": "markdown",
   "metadata": {},
   "source": [
    "<br> "
   ]
  },
  {
   "cell_type": "code",
   "execution_count": null,
   "metadata": {},
   "outputs": [],
   "source": [
    "pixel"
   ]
  },
  {
   "cell_type": "markdown",
   "metadata": {},
   "source": [
    "<br> "
   ]
  },
  {
   "cell_type": "markdown",
   "metadata": {},
   "source": [
    "### Distributions( pixel histogram per band)  "
   ]
  },
  {
   "cell_type": "markdown",
   "metadata": {},
   "source": [
    "#### VH"
   ]
  },
  {
   "cell_type": "code",
   "execution_count": null,
   "metadata": {},
   "outputs": [],
   "source": [
    "pixel.vh.plot.hist()"
   ]
  },
  {
   "cell_type": "markdown",
   "metadata": {},
   "source": [
    "#### VV"
   ]
  },
  {
   "cell_type": "code",
   "execution_count": null,
   "metadata": {},
   "outputs": [],
   "source": [
    "pixel.vv.plot.hist()"
   ]
  },
  {
   "cell_type": "markdown",
   "metadata": {},
   "source": []
  },
  {
   "cell_type": "markdown",
   "metadata": {},
   "source": [
    "### Plot Pixel Bands"
   ]
  },
  {
   "cell_type": "markdown",
   "metadata": {},
   "source": [
    "### VH"
   ]
  },
  {
   "cell_type": "code",
   "execution_count": null,
   "metadata": {},
   "outputs": [],
   "source": [
    "## X-axis time, Y-axis values of vh\n",
    "plt.figure(figsize = (20,5)) \n",
    "plt.scatter(pixel.time.values, pixel.vh.values)"
   ]
  },
  {
   "cell_type": "markdown",
   "metadata": {},
   "source": [
    "### Log10(VH)"
   ]
  },
  {
   "cell_type": "code",
   "execution_count": null,
   "metadata": {},
   "outputs": [],
   "source": [
    "## X-axis time, Y-axis values of vh\n",
    "plt.figure(figsize = (20,5)) \n",
    "plt.scatter(pixel.time.values,  np.log10(pixel.vh.values))"
   ]
  },
  {
   "cell_type": "markdown",
   "metadata": {},
   "source": [
    "### VV"
   ]
  },
  {
   "cell_type": "code",
   "execution_count": null,
   "metadata": {},
   "outputs": [],
   "source": [
    "## X-axis time, Y-axis values of vv\n",
    "plt.figure(figsize = (20,5))\n",
    "plt.scatter(pixel.time.values,  pixel.vv.values)"
   ]
  },
  {
   "cell_type": "markdown",
   "metadata": {},
   "source": [
    "### Log10(VV) "
   ]
  },
  {
   "cell_type": "code",
   "execution_count": null,
   "metadata": {},
   "outputs": [],
   "source": [
    "## X-axis time, Y-axis values of vv\n",
    "plt.figure(figsize = (20,5))\n",
    "plt.scatter(pixel.time.values,  np.log10(pixel.vv.values))"
   ]
  },
  {
   "cell_type": "markdown",
   "metadata": {},
   "source": [
    "### VV/VH"
   ]
  },
  {
   "cell_type": "code",
   "execution_count": null,
   "metadata": {},
   "outputs": [],
   "source": [
    "## X-axis time, Y-axis values of vv\n",
    "plt.figure(figsize = (20,5))\n",
    "plt.scatter(pixel.time.values, pixel.vv_per_vh.values)"
   ]
  },
  {
   "cell_type": "markdown",
   "metadata": {},
   "source": [
    "### Log10(VV) / Log10(VH)  "
   ]
  },
  {
   "cell_type": "code",
   "execution_count": null,
   "metadata": {},
   "outputs": [],
   "source": [
    "## X-axis time, Y-axis values of vv\n",
    "plt.figure(figsize = (20,5))\n",
    "plt.scatter(pixel.time.values,\n",
    "            (np.log10(pixel.vv) / np.log10(pixel.vh)).values\n",
    "           )"
   ]
  },
  {
   "cell_type": "markdown",
   "metadata": {},
   "source": [
    "<br>  \n",
    "<br>  \n",
    "# Box and Whisker Plot for the Loaded Dataset"
   ]
  },
  {
   "cell_type": "code",
   "execution_count": null,
   "metadata": {},
   "outputs": [],
   "source": [
    "def ds_to_timeseries(ds, band, log = False):\n",
    "    da = ds[band]\n",
    "    da = np.log10(da) if log == True else da\n",
    "    da_by_time_slices = [da.isel(time = i) for i in range(len(da.time))]\n",
    "    return [x.values[np.isfinite(x.values)].flatten() for x in da_by_time_slices]    "
   ]
  },
  {
   "cell_type": "markdown",
   "metadata": {},
   "source": [
    "### VV"
   ]
  },
  {
   "cell_type": "code",
   "execution_count": null,
   "metadata": {},
   "outputs": [],
   "source": [
    "plt.figure(figsize = (20,5))\n",
    "\n",
    "plt.boxplot(ds_to_timeseries(dataset, \"vv\"), 0, \"\");\n"
   ]
  },
  {
   "cell_type": "markdown",
   "metadata": {},
   "source": [
    "### VH"
   ]
  },
  {
   "cell_type": "code",
   "execution_count": null,
   "metadata": {},
   "outputs": [],
   "source": [
    "plt.figure(figsize = (20,5))\n",
    "plt.boxplot(ds_to_timeseries(dataset, \"vh\"), 0, \"\");"
   ]
  },
  {
   "cell_type": "markdown",
   "metadata": {},
   "source": [
    "### VV/VH"
   ]
  },
  {
   "cell_type": "code",
   "execution_count": null,
   "metadata": {},
   "outputs": [],
   "source": [
    "plt.figure(figsize = (20,5))\n",
    "plt.boxplot(ds_to_timeseries(dataset, \"vv_per_vh\"), 0, \"\");"
   ]
  },
  {
   "cell_type": "markdown",
   "metadata": {},
   "source": [
    "## Apply threshold to data  "
   ]
  },
  {
   "cell_type": "code",
   "execution_count": null,
   "metadata": {},
   "outputs": [],
   "source": [
    "import matplotlib\n",
    "def plot_threshold(ds, band_name, bottom = None , top = None, log_scaled = False, cmap_name = 'Greys'):\n",
    "    # Threshold is applied to original data, not log scaled data(if you haven't scaled already)\n",
    "    _range = \"Full {} range: {}-{}\".format(band_name, ds[band_name].min().values,ds[band_name].max().values )\n",
    "    \n",
    "    def figure_ratio(ds, fixed_width = 20):\n",
    "        width = fixed_width\n",
    "        height = len(ds.latitude) * (fixed_width / len(ds.longitude))\n",
    "        return (width, height)\n",
    "    \n",
    "    selection = ds[band_name]\n",
    "    \n",
    "    my_cmap = matplotlib.cm.get_cmap(cmap_name)\n",
    "    my_cmap.set_over('r')\n",
    "    my_cmap.set_under('b')\n",
    "\n",
    "    plt.figure(figsize = figure_ratio(ds))\n",
    "    \n",
    "    selection = np.log10(selection) if log_scaled == True else selection\n",
    "    \n",
    "    bottom    = np.log10(bottom)    if log_scaled == True and bottom is not None else bottom\n",
    "    top       = np.log10(top)       if log_scaled == True and top is not None else top\n",
    "    \n",
    "    selection.plot(cmap = my_cmap, vmax =top, vmin = bottom)    \n",
    "    plt.figtext(0.7,0,_range, horizontalalignment = \"center\")"
   ]
  },
  {
   "cell_type": "markdown",
   "metadata": {},
   "source": [
    "### VV(no threshold)"
   ]
  },
  {
   "cell_type": "code",
   "execution_count": null,
   "metadata": {},
   "outputs": [],
   "source": [
    "plot_threshold(first_slice, \"vv\", log_scaled = True)"
   ]
  },
  {
   "cell_type": "markdown",
   "metadata": {},
   "source": [
    "### VV(threshold) "
   ]
  },
  {
   "cell_type": "code",
   "execution_count": null,
   "metadata": {},
   "outputs": [],
   "source": [
    "plot_threshold(first_slice, \"vv\",\n",
    "               bottom = 0.005, \n",
    "               top = .1, \n",
    "               log_scaled = True)"
   ]
  },
  {
   "cell_type": "markdown",
   "metadata": {},
   "source": [
    "### VH( no threshold ) "
   ]
  },
  {
   "cell_type": "code",
   "execution_count": null,
   "metadata": {},
   "outputs": [],
   "source": [
    "plot_threshold(first_slice, \"vh\", log_scaled = True)"
   ]
  },
  {
   "cell_type": "markdown",
   "metadata": {},
   "source": [
    "### VV(threshold) "
   ]
  },
  {
   "cell_type": "code",
   "execution_count": null,
   "metadata": {},
   "outputs": [],
   "source": [
    "plot_threshold(first_slice,\n",
    "               \"vh\",\n",
    "               log_scaled = True,\n",
    "               bottom = 0.001125,\n",
    "               top = 0.01125\n",
    "               )"
   ]
  },
  {
   "cell_type": "code",
   "execution_count": null,
   "metadata": {},
   "outputs": [],
   "source": []
  }
 ],
 "metadata": {
  "kernelspec": {
   "display_name": "Python 3",
   "language": "python",
   "name": "python3"
  },
  "language_info": {
   "codemirror_mode": {
    "name": "ipython",
    "version": 3
   },
   "file_extension": ".py",
   "mimetype": "text/x-python",
   "name": "python",
   "nbconvert_exporter": "python",
   "pygments_lexer": "ipython3",
   "version": "3.6.6"
  },
  "pycharm": {
   "stem_cell": {
    "cell_type": "raw",
    "source": [],
    "metadata": {
     "collapsed": false
    }
   }
  }
 },
 "nbformat": 4,
 "nbformat_minor": 2
}