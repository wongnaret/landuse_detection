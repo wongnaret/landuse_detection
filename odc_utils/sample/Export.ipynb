{
 "cells": [
  {
   "cell_type": "markdown",
   "metadata": {},
   "source": [
    "<a id=\"top\"></a>\n",
    "# Export Notebook  \n",
    "\n",
    "<hr>\n",
    "\n",
    "# Notebook Summary\n",
    "\n",
    "The code in this notebook subsets a data cube, selects a specific set of variables, generates some additional data from those and then outputs that data into a GeoTIFF file. The goal is to be able to do external analyses of this data using other data analysis tools or GIS tools. The files would be reasonable in size, since we would restrict the region and parameters in the output.\n",
    "\n",
    "<hr>\n",
    "\n",
    "# Index\n",
    "\n",
    "* [Import Dependencies and Connect to the Data Cube](#import)\n",
    "* [Choose Platforms and Products](#plat_prod)\n",
    "* [Get the Extents of the Cube](#extents)\n",
    "* [Define the Extents of the Analysis](#define_extents)\n",
    "* [Load Data from the Datacube](#retrieve_data)\n",
    "* [Derive Products](#derive_products)\n",
    "* [Combine Data](#combine_data)\n",
    "* [Export Data](#export)\n",
    "    * [Export to GeoTIFF](#export_geotiff)\n",
    "    * [Export to NetCDF](#export_netcdf)\n",
    "    \n",
    "<hr>"
   ]
  },
  {
   "cell_type": "markdown",
   "metadata": {},
   "source": [
    "## <span id=\"import\">Import Dependencies and Connect to the Data Cube [&#9652;](#top)</span> "
   ]
  },
  {
   "cell_type": "code",
   "execution_count": 1,
   "metadata": {
    "scrolled": true
   },
   "outputs": [],
   "source": [
    "import xarray as xr  \n",
    "import numpy as np\n",
    "import datacube\n",
    "from utils.data_cube_utilities.data_access_api import DataAccessApi  "
   ]
  },
  {
   "cell_type": "code",
   "execution_count": 2,
   "metadata": {},
   "outputs": [],
   "source": [
    "api = DataAccessApi()\n",
    "dc = api.dc"
   ]
  },
  {
   "cell_type": "markdown",
   "metadata": {},
   "source": [
    "## <span id=\"plat_prod\">Choose Platforms and Products [&#9652;](#top)</span>"
   ]
  },
  {
   "cell_type": "markdown",
   "metadata": {},
   "source": [
    "**List available products for each platform**"
   ]
  },
  {
   "cell_type": "code",
   "execution_count": 3,
   "metadata": {
    "scrolled": false
   },
   "outputs": [
    {
     "data": {
      "text/html": [
       "<div>\n",
       "<style scoped>\n",
       "    .dataframe tbody tr th:only-of-type {\n",
       "        vertical-align: middle;\n",
       "    }\n",
       "\n",
       "    .dataframe tbody tr th {\n",
       "        vertical-align: top;\n",
       "    }\n",
       "\n",
       "    .dataframe thead th {\n",
       "        text-align: right;\n",
       "    }\n",
       "</style>\n",
       "<table border=\"1\" class=\"dataframe\">\n",
       "  <thead>\n",
       "    <tr style=\"text-align: right;\">\n",
       "      <th></th>\n",
       "      <th>name</th>\n",
       "      <th>description</th>\n",
       "      <th>time</th>\n",
       "      <th>format</th>\n",
       "      <th>lon</th>\n",
       "      <th>label</th>\n",
       "      <th>product_type</th>\n",
       "      <th>creation_time</th>\n",
       "      <th>lat</th>\n",
       "      <th>instrument</th>\n",
       "      <th>platform</th>\n",
       "      <th>crs</th>\n",
       "      <th>resolution</th>\n",
       "      <th>tile_size</th>\n",
       "      <th>spatial_dimensions</th>\n",
       "    </tr>\n",
       "    <tr>\n",
       "      <th>id</th>\n",
       "      <th></th>\n",
       "      <th></th>\n",
       "      <th></th>\n",
       "      <th></th>\n",
       "      <th></th>\n",
       "      <th></th>\n",
       "      <th></th>\n",
       "      <th></th>\n",
       "      <th></th>\n",
       "      <th></th>\n",
       "      <th></th>\n",
       "      <th></th>\n",
       "      <th></th>\n",
       "      <th></th>\n",
       "      <th></th>\n",
       "    </tr>\n",
       "  </thead>\n",
       "  <tbody>\n",
       "    <tr>\n",
       "      <th>13</th>\n",
       "      <td>ls7_ledaps_ghana</td>\n",
       "      <td>Landsat 7 USGS Collection 1 Higher Level SR sc...</td>\n",
       "      <td>None</td>\n",
       "      <td>NetCDF</td>\n",
       "      <td>None</td>\n",
       "      <td>None</td>\n",
       "      <td>LEDAPS</td>\n",
       "      <td>None</td>\n",
       "      <td>None</td>\n",
       "      <td>ETM</td>\n",
       "      <td>LANDSAT_7</td>\n",
       "      <td>EPSG:4326</td>\n",
       "      <td>(-0.000269494585236, 0.000269494585236)</td>\n",
       "      <td>(0.943231048326, 0.943231048326)</td>\n",
       "      <td>(latitude, longitude)</td>\n",
       "    </tr>\n",
       "    <tr>\n",
       "      <th>17</th>\n",
       "      <td>ls7_ledaps_kenya</td>\n",
       "      <td>Landsat 7 USGS Collection 1 Higher Level SR sc...</td>\n",
       "      <td>None</td>\n",
       "      <td>NetCDF</td>\n",
       "      <td>None</td>\n",
       "      <td>None</td>\n",
       "      <td>LEDAPS</td>\n",
       "      <td>None</td>\n",
       "      <td>None</td>\n",
       "      <td>ETM</td>\n",
       "      <td>LANDSAT_7</td>\n",
       "      <td>EPSG:4326</td>\n",
       "      <td>(-0.000269493, 0.000269493)</td>\n",
       "      <td>(0.99981903, 0.99981903)</td>\n",
       "      <td>(latitude, longitude)</td>\n",
       "    </tr>\n",
       "    <tr>\n",
       "      <th>18</th>\n",
       "      <td>ls7_ledaps_senegal</td>\n",
       "      <td>Landsat 7 USGS Collection 1 Higher Level SR sc...</td>\n",
       "      <td>None</td>\n",
       "      <td>NetCDF</td>\n",
       "      <td>None</td>\n",
       "      <td>None</td>\n",
       "      <td>LEDAPS</td>\n",
       "      <td>None</td>\n",
       "      <td>None</td>\n",
       "      <td>ETM</td>\n",
       "      <td>LANDSAT_7</td>\n",
       "      <td>EPSG:4326</td>\n",
       "      <td>(-0.000271152, 0.00027769)</td>\n",
       "      <td>(0.813456, 0.83307)</td>\n",
       "      <td>(latitude, longitude)</td>\n",
       "    </tr>\n",
       "    <tr>\n",
       "      <th>16</th>\n",
       "      <td>ls7_ledaps_sierra_leone</td>\n",
       "      <td>Landsat 7 USGS Collection 1 Higher Level SR sc...</td>\n",
       "      <td>None</td>\n",
       "      <td>NetCDF</td>\n",
       "      <td>None</td>\n",
       "      <td>None</td>\n",
       "      <td>LEDAPS</td>\n",
       "      <td>None</td>\n",
       "      <td>None</td>\n",
       "      <td>ETM</td>\n",
       "      <td>LANDSAT_7</td>\n",
       "      <td>EPSG:4326</td>\n",
       "      <td>(-0.000269494585236, 0.000269494585236)</td>\n",
       "      <td>(0.943231048326, 0.943231048326)</td>\n",
       "      <td>(latitude, longitude)</td>\n",
       "    </tr>\n",
       "    <tr>\n",
       "      <th>19</th>\n",
       "      <td>ls7_ledaps_tanzania</td>\n",
       "      <td>Landsat 7 USGS Collection 1 Higher Level SR sc...</td>\n",
       "      <td>None</td>\n",
       "      <td>NetCDF</td>\n",
       "      <td>None</td>\n",
       "      <td>None</td>\n",
       "      <td>LEDAPS</td>\n",
       "      <td>None</td>\n",
       "      <td>None</td>\n",
       "      <td>ETM</td>\n",
       "      <td>LANDSAT_7</td>\n",
       "      <td>EPSG:4326</td>\n",
       "      <td>(-0.000271277688070265, 0.000271139577954979)</td>\n",
       "      <td>(0.999929558226998, 0.999962763497961)</td>\n",
       "      <td>(latitude, longitude)</td>\n",
       "    </tr>\n",
       "    <tr>\n",
       "      <th>31</th>\n",
       "      <td>ls7_ledaps_vietnam</td>\n",
       "      <td>Landsat 7 USGS Collection 1 Higher Level SR sc...</td>\n",
       "      <td>None</td>\n",
       "      <td>NetCDF</td>\n",
       "      <td>None</td>\n",
       "      <td>None</td>\n",
       "      <td>LEDAPS</td>\n",
       "      <td>None</td>\n",
       "      <td>None</td>\n",
       "      <td>ETM</td>\n",
       "      <td>LANDSAT_7</td>\n",
       "      <td>EPSG:4326</td>\n",
       "      <td>(-0.000269494585236, 0.000269494585236)</td>\n",
       "      <td>(0.943231048326, 0.943231048326)</td>\n",
       "      <td>(latitude, longitude)</td>\n",
       "    </tr>\n",
       "    <tr>\n",
       "      <th>9</th>\n",
       "      <td>ls8_lasrc_ghana</td>\n",
       "      <td>Landsat 8 USGS Collection 1 Higher Level SR sc...</td>\n",
       "      <td>None</td>\n",
       "      <td>NetCDF</td>\n",
       "      <td>None</td>\n",
       "      <td>None</td>\n",
       "      <td>LaSRC</td>\n",
       "      <td>None</td>\n",
       "      <td>None</td>\n",
       "      <td>OLI_TIRS</td>\n",
       "      <td>LANDSAT_8</td>\n",
       "      <td>EPSG:4326</td>\n",
       "      <td>(-0.000269494585236, 0.000269494585236)</td>\n",
       "      <td>(0.943231048326, 0.943231048326)</td>\n",
       "      <td>(latitude, longitude)</td>\n",
       "    </tr>\n",
       "    <tr>\n",
       "      <th>10</th>\n",
       "      <td>ls8_lasrc_kenya</td>\n",
       "      <td>Landsat 8 USGS Collection 1 Higher Level SR sc...</td>\n",
       "      <td>None</td>\n",
       "      <td>NetCDF</td>\n",
       "      <td>None</td>\n",
       "      <td>None</td>\n",
       "      <td>LaSRC</td>\n",
       "      <td>None</td>\n",
       "      <td>None</td>\n",
       "      <td>OLI_TIRS</td>\n",
       "      <td>LANDSAT_8</td>\n",
       "      <td>EPSG:4326</td>\n",
       "      <td>(-0.000271309115317046, 0.00026957992707863)</td>\n",
       "      <td>(0.999502780827996, 0.999602369607559)</td>\n",
       "      <td>(latitude, longitude)</td>\n",
       "    </tr>\n",
       "    <tr>\n",
       "      <th>11</th>\n",
       "      <td>ls8_lasrc_senegal</td>\n",
       "      <td>Landsat 8 USGS Collection 1 Higher Level SR sc...</td>\n",
       "      <td>None</td>\n",
       "      <td>NetCDF</td>\n",
       "      <td>None</td>\n",
       "      <td>None</td>\n",
       "      <td>LaSRC</td>\n",
       "      <td>None</td>\n",
       "      <td>None</td>\n",
       "      <td>OLI_TIRS</td>\n",
       "      <td>LANDSAT_8</td>\n",
       "      <td>EPSG:4326</td>\n",
       "      <td>(-0.000271152, 0.00027769)</td>\n",
       "      <td>(0.813456, 0.83307)</td>\n",
       "      <td>(latitude, longitude)</td>\n",
       "    </tr>\n",
       "    <tr>\n",
       "      <th>8</th>\n",
       "      <td>ls8_lasrc_sierra_leone</td>\n",
       "      <td>Landsat 8 USGS Collection 1 Higher Level SR sc...</td>\n",
       "      <td>None</td>\n",
       "      <td>NetCDF</td>\n",
       "      <td>None</td>\n",
       "      <td>None</td>\n",
       "      <td>LaSRC</td>\n",
       "      <td>None</td>\n",
       "      <td>None</td>\n",
       "      <td>OLI_TIRS</td>\n",
       "      <td>LANDSAT_8</td>\n",
       "      <td>EPSG:4326</td>\n",
       "      <td>(-0.000269494585236, 0.000269494585236)</td>\n",
       "      <td>(0.943231048326, 0.943231048326)</td>\n",
       "      <td>(latitude, longitude)</td>\n",
       "    </tr>\n",
       "    <tr>\n",
       "      <th>15</th>\n",
       "      <td>ls8_lasrc_tanzania</td>\n",
       "      <td>Landsat 8 USGS Collection 1 Higher Level SR sc...</td>\n",
       "      <td>None</td>\n",
       "      <td>NetCDF</td>\n",
       "      <td>None</td>\n",
       "      <td>None</td>\n",
       "      <td>LaSRC</td>\n",
       "      <td>None</td>\n",
       "      <td>None</td>\n",
       "      <td>OLI_TIRS</td>\n",
       "      <td>LANDSAT_8</td>\n",
       "      <td>EPSG:4326</td>\n",
       "      <td>(-0.000271277688070265, 0.000271139577954979)</td>\n",
       "      <td>(0.999929558226998, 0.999962763497961)</td>\n",
       "      <td>(latitude, longitude)</td>\n",
       "    </tr>\n",
       "  </tbody>\n",
       "</table>\n",
       "</div>"
      ],
      "text/plain": [
       "                       name  \\\n",
       "id                            \n",
       "13         ls7_ledaps_ghana   \n",
       "17         ls7_ledaps_kenya   \n",
       "18       ls7_ledaps_senegal   \n",
       "16  ls7_ledaps_sierra_leone   \n",
       "19      ls7_ledaps_tanzania   \n",
       "31       ls7_ledaps_vietnam   \n",
       "9           ls8_lasrc_ghana   \n",
       "10          ls8_lasrc_kenya   \n",
       "11        ls8_lasrc_senegal   \n",
       "8    ls8_lasrc_sierra_leone   \n",
       "15       ls8_lasrc_tanzania   \n",
       "\n",
       "                                          description  time  format   lon  \\\n",
       "id                                                                          \n",
       "13  Landsat 7 USGS Collection 1 Higher Level SR sc...  None  NetCDF  None   \n",
       "17  Landsat 7 USGS Collection 1 Higher Level SR sc...  None  NetCDF  None   \n",
       "18  Landsat 7 USGS Collection 1 Higher Level SR sc...  None  NetCDF  None   \n",
       "16  Landsat 7 USGS Collection 1 Higher Level SR sc...  None  NetCDF  None   \n",
       "19  Landsat 7 USGS Collection 1 Higher Level SR sc...  None  NetCDF  None   \n",
       "31  Landsat 7 USGS Collection 1 Higher Level SR sc...  None  NetCDF  None   \n",
       "9   Landsat 8 USGS Collection 1 Higher Level SR sc...  None  NetCDF  None   \n",
       "10  Landsat 8 USGS Collection 1 Higher Level SR sc...  None  NetCDF  None   \n",
       "11  Landsat 8 USGS Collection 1 Higher Level SR sc...  None  NetCDF  None   \n",
       "8   Landsat 8 USGS Collection 1 Higher Level SR sc...  None  NetCDF  None   \n",
       "15  Landsat 8 USGS Collection 1 Higher Level SR sc...  None  NetCDF  None   \n",
       "\n",
       "   label product_type creation_time   lat instrument   platform        crs  \\\n",
       "id                                                                           \n",
       "13  None       LEDAPS          None  None        ETM  LANDSAT_7  EPSG:4326   \n",
       "17  None       LEDAPS          None  None        ETM  LANDSAT_7  EPSG:4326   \n",
       "18  None       LEDAPS          None  None        ETM  LANDSAT_7  EPSG:4326   \n",
       "16  None       LEDAPS          None  None        ETM  LANDSAT_7  EPSG:4326   \n",
       "19  None       LEDAPS          None  None        ETM  LANDSAT_7  EPSG:4326   \n",
       "31  None       LEDAPS          None  None        ETM  LANDSAT_7  EPSG:4326   \n",
       "9   None        LaSRC          None  None   OLI_TIRS  LANDSAT_8  EPSG:4326   \n",
       "10  None        LaSRC          None  None   OLI_TIRS  LANDSAT_8  EPSG:4326   \n",
       "11  None        LaSRC          None  None   OLI_TIRS  LANDSAT_8  EPSG:4326   \n",
       "8   None        LaSRC          None  None   OLI_TIRS  LANDSAT_8  EPSG:4326   \n",
       "15  None        LaSRC          None  None   OLI_TIRS  LANDSAT_8  EPSG:4326   \n",
       "\n",
       "                                       resolution  \\\n",
       "id                                                  \n",
       "13        (-0.000269494585236, 0.000269494585236)   \n",
       "17                    (-0.000269493, 0.000269493)   \n",
       "18                     (-0.000271152, 0.00027769)   \n",
       "16        (-0.000269494585236, 0.000269494585236)   \n",
       "19  (-0.000271277688070265, 0.000271139577954979)   \n",
       "31        (-0.000269494585236, 0.000269494585236)   \n",
       "9         (-0.000269494585236, 0.000269494585236)   \n",
       "10   (-0.000271309115317046, 0.00026957992707863)   \n",
       "11                     (-0.000271152, 0.00027769)   \n",
       "8         (-0.000269494585236, 0.000269494585236)   \n",
       "15  (-0.000271277688070265, 0.000271139577954979)   \n",
       "\n",
       "                                 tile_size     spatial_dimensions  \n",
       "id                                                                 \n",
       "13        (0.943231048326, 0.943231048326)  (latitude, longitude)  \n",
       "17                (0.99981903, 0.99981903)  (latitude, longitude)  \n",
       "18                     (0.813456, 0.83307)  (latitude, longitude)  \n",
       "16        (0.943231048326, 0.943231048326)  (latitude, longitude)  \n",
       "19  (0.999929558226998, 0.999962763497961)  (latitude, longitude)  \n",
       "31        (0.943231048326, 0.943231048326)  (latitude, longitude)  \n",
       "9         (0.943231048326, 0.943231048326)  (latitude, longitude)  \n",
       "10  (0.999502780827996, 0.999602369607559)  (latitude, longitude)  \n",
       "11                     (0.813456, 0.83307)  (latitude, longitude)  \n",
       "8         (0.943231048326, 0.943231048326)  (latitude, longitude)  \n",
       "15  (0.999929558226998, 0.999962763497961)  (latitude, longitude)  "
      ]
     },
     "execution_count": 3,
     "metadata": {},
     "output_type": "execute_result"
    }
   ],
   "source": [
    "list_of_products = dc.list_products()\n",
    "netCDF_products = list_of_products[list_of_products['format'] == 'NetCDF']\n",
    "netCDF_products"
   ]
  },
  {
   "cell_type": "markdown",
   "metadata": {},
   "source": [
    "**Choose product**"
   ]
  },
  {
   "cell_type": "code",
   "execution_count": 4,
   "metadata": {
    "scrolled": true
   },
   "outputs": [],
   "source": [
    "platform = \"LANDSAT_7\"\n",
    "product = \"ls7_ledaps_vietnam\"\n",
    "\n",
    "# platform = \"LANDSAT_8\"\n",
    "# product = \"ls8_lasrc_vietnam\""
   ]
  },
  {
   "cell_type": "markdown",
   "metadata": {},
   "source": [
    "## <span id=\"extents\">Get the Extents of the Cube [&#9652;](#top)</span>"
   ]
  },
  {
   "cell_type": "code",
   "execution_count": 5,
   "metadata": {},
   "outputs": [
    {
     "name": "stdout",
     "output_type": "stream",
     "text": [
      "Latitude Extents: (9.1762906272858, 13.964939912344285)\n",
      "Longitude Extents: (102.4041694654867, 108.9310588253174)\n",
      "Time Extents: ['1999-09-08', '2016-12-29']\n"
     ]
    }
   ],
   "source": [
    "from utils.data_cube_utilities.dc_load import get_product_extents\n",
    "from utils.data_cube_utilities.dc_time import dt_to_str\n",
    "\n",
    "full_lat, full_lon, min_max_dates = get_product_extents(api, platform, product)\n",
    "\n",
    "# Print the extents of the combined data.\n",
    "print(\"Latitude Extents:\", full_lat)\n",
    "print(\"Longitude Extents:\", full_lon)\n",
    "print(\"Time Extents:\", list(map(dt_to_str, min_max_dates)))"
   ]
  },
  {
   "cell_type": "code",
   "execution_count": 6,
   "metadata": {},
   "outputs": [
    {
     "data": {
      "text/html": [
       "<div style=\"width:100%;\"><div style=\"position:relative;width:100%;height:0;padding-bottom:60%;\"><iframe src=\"data:text/html;charset=utf-8;base64,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\" style=\"position:absolute;width:100%;height:100%;left:0;top:0;border:none !important;\" allowfullscreen webkitallowfullscreen mozallowfullscreen></iframe></div></div>"
      ],
      "text/plain": [
       "<folium.folium.Map at 0x7f349d4e4b70>"
      ]
     },
     "execution_count": 6,
     "metadata": {},
     "output_type": "execute_result"
    }
   ],
   "source": [
    "## The code below renders a map that can be used to orient yourself with the region.\n",
    "from utils.data_cube_utilities.dc_display_map import display_map\n",
    "display_map(full_lat, full_lon)"
   ]
  },
  {
   "cell_type": "markdown",
   "metadata": {},
   "source": [
    "## <span id=\"define_extents\">Define the Extents of the Analysis [&#9652;](#top)</span>"
   ]
  },
  {
   "cell_type": "code",
   "execution_count": 7,
   "metadata": {},
   "outputs": [],
   "source": [
    "######### Vietnam - Buan Tua Srah Lake ################## \n",
    "lon = (108.02, 108.15)\n",
    "lat  = (12.18 , 12.30)\n",
    "\n",
    "time_extents = ('2015-01-01', '2015-12-31')"
   ]
  },
  {
   "cell_type": "code",
   "execution_count": 8,
   "metadata": {},
   "outputs": [
    {
     "data": {
      "text/html": [
       "<div style=\"width:100%;\"><div style=\"position:relative;width:100%;height:0;padding-bottom:60%;\"><iframe src=\"data:text/html;charset=utf-8;base64,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\" style=\"position:absolute;width:100%;height:100%;left:0;top:0;border:none !important;\" allowfullscreen webkitallowfullscreen mozallowfullscreen></iframe></div></div>"
      ],
      "text/plain": [
       "<folium.folium.Map at 0x7f349d4e4ac8>"
      ]
     },
     "execution_count": 8,
     "metadata": {},
     "output_type": "execute_result"
    }
   ],
   "source": [
    "from utils.data_cube_utilities.dc_display_map import display_map\n",
    "display_map(lat, lon)"
   ]
  },
  {
   "cell_type": "markdown",
   "metadata": {},
   "source": [
    "## <span id=\"retrieve_data\">Load Data from the Data Cube [&#9652;](#top)</span>"
   ]
  },
  {
   "cell_type": "code",
   "execution_count": 9,
   "metadata": {},
   "outputs": [],
   "source": [
    "landsat_dataset = dc.load(latitude = lat,\n",
    "                          longitude = lon,\n",
    "                          platform = platform,\n",
    "                          time = time_extents,\n",
    "                          product = product,\n",
    "                          measurements = ['red', 'green', 'blue', 'nir', 'swir1', 'swir2', 'pixel_qa']) "
   ]
  },
  {
   "cell_type": "code",
   "execution_count": 10,
   "metadata": {},
   "outputs": [
    {
     "data": {
      "text/html": [
       "<pre>&lt;xarray.Dataset&gt;\n",
       "Dimensions:    (latitude: 446, longitude: 483, time: 19)\n",
       "Coordinates:\n",
       "  * time       (time) datetime64[ns] 2015-01-09T03:06:13 ... 2015-12-27T03:08:59\n",
       "  * latitude   (latitude) float64 12.3 12.3 12.3 12.3 ... 12.18 12.18 12.18\n",
       "  * longitude  (longitude) float64 108.0 108.0 108.0 108.0 ... 108.1 108.1 108.1\n",
       "Data variables:\n",
       "    red        (time, latitude, longitude) int16 912 1008 1125 ... 614 464 427\n",
       "    green      (time, latitude, longitude) int16 674 779 842 863 ... 508 487 467\n",
       "    blue       (time, latitude, longitude) int16 493 473 574 554 ... 390 293 312\n",
       "    nir        (time, latitude, longitude) int16 2500 2544 2587 ... 2772 2731\n",
       "    swir1      (time, latitude, longitude) int16 2740 3002 3054 ... 2095 1993\n",
       "    swir2      (time, latitude, longitude) int16 1678 1982 2037 ... 1099 991\n",
       "    pixel_qa   (time, latitude, longitude) int32 66 66 66 66 66 ... 66 66 66 66\n",
       "Attributes:\n",
       "    crs:      EPSG:4326</pre>"
      ],
      "text/plain": [
       "<xarray.Dataset>\n",
       "Dimensions:    (latitude: 446, longitude: 483, time: 19)\n",
       "Coordinates:\n",
       "  * time       (time) datetime64[ns] 2015-01-09T03:06:13 ... 2015-12-27T03:08:59\n",
       "  * latitude   (latitude) float64 12.3 12.3 12.3 12.3 ... 12.18 12.18 12.18\n",
       "  * longitude  (longitude) float64 108.0 108.0 108.0 108.0 ... 108.1 108.1 108.1\n",
       "Data variables:\n",
       "    red        (time, latitude, longitude) int16 912 1008 1125 ... 614 464 427\n",
       "    green      (time, latitude, longitude) int16 674 779 842 863 ... 508 487 467\n",
       "    blue       (time, latitude, longitude) int16 493 473 574 554 ... 390 293 312\n",
       "    nir        (time, latitude, longitude) int16 2500 2544 2587 ... 2772 2731\n",
       "    swir1      (time, latitude, longitude) int16 2740 3002 3054 ... 2095 1993\n",
       "    swir2      (time, latitude, longitude) int16 1678 1982 2037 ... 1099 991\n",
       "    pixel_qa   (time, latitude, longitude) int32 66 66 66 66 66 ... 66 66 66 66\n",
       "Attributes:\n",
       "    crs:      EPSG:4326"
      ]
     },
     "execution_count": 10,
     "metadata": {},
     "output_type": "execute_result"
    }
   ],
   "source": [
    "landsat_dataset"
   ]
  },
  {
   "cell_type": "markdown",
   "metadata": {},
   "source": [
    "## <span id=\"derive_products\">Derive Products [&#9652;](#top)</span> "
   ]
  },
  {
   "cell_type": "markdown",
   "metadata": {},
   "source": [
    "> ### Masks"
   ]
  },
  {
   "cell_type": "code",
   "execution_count": 11,
   "metadata": {},
   "outputs": [],
   "source": [
    "from utils.data_cube_utilities.clean_mask import landsat_qa_clean_mask\n",
    "\n",
    "clear_xarray = landsat_qa_clean_mask(landsat_dataset, platform, cover_types=['clear'])\n",
    "water_xarray = landsat_qa_clean_mask(landsat_dataset, platform, cover_types=['water'])\n",
    "shadow_xarray = landsat_qa_clean_mask(landsat_dataset, platform, cover_types=['shadow'])\n",
    "\n",
    "clean_xarray = xr.ufuncs.logical_or(clear_xarray , water_xarray).rename(\"clean_mask\")"
   ]
  },
  {
   "cell_type": "markdown",
   "metadata": {},
   "source": [
    "> ### Water Classification"
   ]
  },
  {
   "cell_type": "code",
   "execution_count": 12,
   "metadata": {},
   "outputs": [
    {
     "name": "stderr",
     "output_type": "stream",
     "text": [
      "/home/localuser/Datacube/data_cube_notebooks/utils/data_cube_utilities/dc_water_classifier.py:119: RuntimeWarning: divide by zero encountered in true_divide\n",
      "  return (a - b) / (a + b)\n"
     ]
    }
   ],
   "source": [
    "from utils.data_cube_utilities.dc_water_classifier import wofs_classify\n",
    "\n",
    "water_classification = wofs_classify(landsat_dataset,\n",
    "                                     clean_mask = clean_xarray.values, \n",
    "                                     mosaic = False) "
   ]
  },
  {
   "cell_type": "code",
   "execution_count": 13,
   "metadata": {},
   "outputs": [],
   "source": [
    "wofs_xarray = water_classification.wofs"
   ]
  },
  {
   "cell_type": "markdown",
   "metadata": {},
   "source": [
    "> ###  Normalized Indices  "
   ]
  },
  {
   "cell_type": "code",
   "execution_count": 14,
   "metadata": {},
   "outputs": [],
   "source": [
    "def NDVI(dataset):\n",
    "    return ((dataset.nir - dataset.red)/(dataset.nir + dataset.red)).rename(\"NDVI\")"
   ]
  },
  {
   "cell_type": "code",
   "execution_count": 15,
   "metadata": {},
   "outputs": [],
   "source": [
    "def NDWI(dataset):\n",
    "    return ((dataset.green - dataset.nir)/(dataset.green + dataset.nir)).rename(\"NDWI\")"
   ]
  },
  {
   "cell_type": "code",
   "execution_count": 16,
   "metadata": {},
   "outputs": [],
   "source": [
    "def NDBI(dataset):\n",
    "        return ((dataset.swir2 - dataset.nir)/(dataset.swir2 + dataset.nir)).rename(\"NDBI\")"
   ]
  },
  {
   "cell_type": "code",
   "execution_count": 17,
   "metadata": {},
   "outputs": [],
   "source": [
    "ndbi_xarray = NDBI(landsat_dataset)  # Urbanization - Reds\n",
    "ndvi_xarray = NDVI(landsat_dataset)  # Dense Vegetation - Greens\n",
    "ndwi_xarray = NDWI(landsat_dataset)  # High Concentrations of Water - Blues  "
   ]
  },
  {
   "cell_type": "markdown",
   "metadata": {},
   "source": [
    ">### TSM  "
   ]
  },
  {
   "cell_type": "code",
   "execution_count": 18,
   "metadata": {},
   "outputs": [],
   "source": [
    "from utils.data_cube_utilities.dc_water_quality import tsm\n",
    "\n",
    "tsm_xarray = tsm(landsat_dataset, clean_mask = wofs_xarray.values.astype(bool) ).tsm"
   ]
  },
  {
   "cell_type": "markdown",
   "metadata": {},
   "source": [
    "> ### EVI  "
   ]
  },
  {
   "cell_type": "code",
   "execution_count": 19,
   "metadata": {},
   "outputs": [],
   "source": [
    "def EVI(dataset, c1 = None, c2 = None, L = None):\n",
    "        return ((dataset.nir - dataset.red)/((dataset.nir  + (c1 * dataset.red) - (c2 *dataset.blue) + L))).rename(\"EVI\")"
   ]
  },
  {
   "cell_type": "code",
   "execution_count": 20,
   "metadata": {},
   "outputs": [],
   "source": [
    "evi_xarray = EVI(landsat_dataset, c1 = 6, c2 = 7.5, L = 1 )"
   ]
  },
  {
   "cell_type": "markdown",
   "metadata": {},
   "source": [
    "## <span id=\"combine_data\">Combine Data [&#9652;](#top)</span>  "
   ]
  },
  {
   "cell_type": "code",
   "execution_count": 21,
   "metadata": {},
   "outputs": [
    {
     "data": {
      "text/html": [
       "<pre>&lt;xarray.Dataset&gt;\n",
       "Dimensions:      (latitude: 446, longitude: 483, time: 19)\n",
       "Coordinates:\n",
       "  * time         (time) datetime64[ns] 2015-01-09T03:06:13 ... 2015-12-27T03:08:59\n",
       "  * latitude     (latitude) float64 12.3 12.3 12.3 12.3 ... 12.18 12.18 12.18\n",
       "  * longitude    (longitude) float64 108.0 108.0 108.0 ... 108.1 108.1 108.1\n",
       "Data variables:\n",
       "    red          (time, latitude, longitude) int16 912 1008 1125 ... 614 464 427\n",
       "    green        (time, latitude, longitude) int16 674 779 842 ... 508 487 467\n",
       "    blue         (time, latitude, longitude) int16 493 473 574 ... 390 293 312\n",
       "    nir          (time, latitude, longitude) int16 2500 2544 2587 ... 2772 2731\n",
       "    swir1        (time, latitude, longitude) int16 2740 3002 3054 ... 2095 1993\n",
       "    swir2        (time, latitude, longitude) int16 1678 1982 2037 ... 1099 991\n",
       "    pixel_qa     (time, latitude, longitude) int32 66 66 66 66 ... 66 66 66 66\n",
       "    clear_mask   (time, latitude, longitude) bool True True True ... True True\n",
       "    water_mask   (time, latitude, longitude) bool False False ... False False\n",
       "    shadow_mask  (time, latitude, longitude) bool False False ... False False\n",
       "    EVI          (time, latitude, longitude) float64 0.3714 0.3044 ... 0.78\n",
       "    NDBI         (time, latitude, longitude) float64 -0.1967 -0.1242 ... -0.4675\n",
       "    NDVI         (time, latitude, longitude) float64 0.4654 0.4324 ... 0.7296\n",
       "    NDWI         (time, latitude, longitude) float64 -0.5753 -0.5311 ... -0.7079\n",
       "    wofs         (time, latitude, longitude) float64 0.0 0.0 0.0 ... 0.0 0.0 0.0\n",
       "    tsm          (time, latitude, longitude) float64 0.0 0.0 0.0 ... 0.0 0.0 0.0\n",
       "Attributes:\n",
       "    crs:      EPSG:4326</pre>"
      ],
      "text/plain": [
       "<xarray.Dataset>\n",
       "Dimensions:      (latitude: 446, longitude: 483, time: 19)\n",
       "Coordinates:\n",
       "  * time         (time) datetime64[ns] 2015-01-09T03:06:13 ... 2015-12-27T03:08:59\n",
       "  * latitude     (latitude) float64 12.3 12.3 12.3 12.3 ... 12.18 12.18 12.18\n",
       "  * longitude    (longitude) float64 108.0 108.0 108.0 ... 108.1 108.1 108.1\n",
       "Data variables:\n",
       "    red          (time, latitude, longitude) int16 912 1008 1125 ... 614 464 427\n",
       "    green        (time, latitude, longitude) int16 674 779 842 ... 508 487 467\n",
       "    blue         (time, latitude, longitude) int16 493 473 574 ... 390 293 312\n",
       "    nir          (time, latitude, longitude) int16 2500 2544 2587 ... 2772 2731\n",
       "    swir1        (time, latitude, longitude) int16 2740 3002 3054 ... 2095 1993\n",
       "    swir2        (time, latitude, longitude) int16 1678 1982 2037 ... 1099 991\n",
       "    pixel_qa     (time, latitude, longitude) int32 66 66 66 66 ... 66 66 66 66\n",
       "    clear_mask   (time, latitude, longitude) bool True True True ... True True\n",
       "    water_mask   (time, latitude, longitude) bool False False ... False False\n",
       "    shadow_mask  (time, latitude, longitude) bool False False ... False False\n",
       "    EVI          (time, latitude, longitude) float64 0.3714 0.3044 ... 0.78\n",
       "    NDBI         (time, latitude, longitude) float64 -0.1967 -0.1242 ... -0.4675\n",
       "    NDVI         (time, latitude, longitude) float64 0.4654 0.4324 ... 0.7296\n",
       "    NDWI         (time, latitude, longitude) float64 -0.5753 -0.5311 ... -0.7079\n",
       "    wofs         (time, latitude, longitude) float64 0.0 0.0 0.0 ... 0.0 0.0 0.0\n",
       "    tsm          (time, latitude, longitude) float64 0.0 0.0 0.0 ... 0.0 0.0 0.0\n",
       "Attributes:\n",
       "    crs:      EPSG:4326"
      ]
     },
     "execution_count": 21,
     "metadata": {},
     "output_type": "execute_result"
    }
   ],
   "source": [
    "combined_dataset = xr.merge([landsat_dataset,\n",
    "          ## <span id=\"combine_data\">Combine Data [&#9652;](#top)</span>  clean_xarray,\n",
    "          clear_xarray,\n",
    "          water_xarray,\n",
    "          shadow_xarray,\n",
    "          evi_xarray,\n",
    "          ndbi_xarray,\n",
    "          ndvi_xarray,\n",
    "          ndwi_xarray,\n",
    "          wofs_xarray,\n",
    "          tsm_xarray])\n",
    "\n",
    "# Copy original crs to merged dataset \n",
    "combined_dataset = combined_dataset.assign_attrs(landsat_dataset.attrs)\n",
    "\n",
    "combined_dataset"
   ]
  },
  {
   "cell_type": "markdown",
   "metadata": {},
   "source": [
    "## <span id=\"export\">Export Data [&#9652;](#top)</span>  "
   ]
  },
  {
   "cell_type": "markdown",
   "metadata": {},
   "source": [
    "### <span id=\"export_geotiff\">Export to GeoTIFF [&#9652;](#top)</span>  "
   ]
  },
  {
   "cell_type": "markdown",
   "metadata": {},
   "source": [
    "Export each acquisition as a GeoTIFF."
   ]
  },
  {
   "cell_type": "code",
   "execution_count": 22,
   "metadata": {},
   "outputs": [],
   "source": [
    "from utils.data_cube_utilities.import_export import export_xarray_to_multiple_geotiffs\n",
    "\n",
    "# Ensure the output directory exists before writing to it.\n",
    "if platform == 'LANDSAT_7':\n",
    "    !mkdir -p output/geotiffs/landsat7\n",
    "else:\n",
    "    !mkdir -p output/geotiffs/landsat8\n",
    "\n",
    "output_path = \"output/geotiffs/landsat{0}/landsat{0}\".format(7 if platform=='LANDSAT_7' else 8)\n",
    "\n",
    "export_xarray_to_multiple_geotiffs(combined_dataset, output_path)"
   ]
  },
  {
   "cell_type": "markdown",
   "metadata": {},
   "source": [
    "Check to see what files were exported. The size of these files is also shown."
   ]
  },
  {
   "cell_type": "code",
   "execution_count": 23,
   "metadata": {},
   "outputs": [
    {
     "name": "stdout",
     "output_type": "stream",
     "text": [
      "-rw-rw-r-- 1 localuser localuser 14M Jan 12 04:13 output/geotiffs/landsat7/landsat7_2015_01_09_03_06_13.tif\r\n",
      "-rw-rw-r-- 1 localuser localuser 14M Jan 12 04:13 output/geotiffs/landsat7/landsat7_2015_01_25_03_06_16.tif\r\n",
      "-rw-rw-r-- 1 localuser localuser 14M Jan 12 04:13 output/geotiffs/landsat7/landsat7_2015_02_10_03_06_21.tif\r\n",
      "-rw-rw-r-- 1 localuser localuser 14M Jan 12 04:13 output/geotiffs/landsat7/landsat7_2015_02_26_03_06_30.tif\r\n",
      "-rw-rw-r-- 1 localuser localuser 14M Jan 12 04:13 output/geotiffs/landsat7/landsat7_2015_03_14_03_06_36.tif\r\n",
      "-rw-rw-r-- 1 localuser localuser 14M Jan 12 04:13 output/geotiffs/landsat7/landsat7_2015_03_30_03_06_43.tif\r\n",
      "-rw-rw-r-- 1 localuser localuser 14M Jan 12 04:13 output/geotiffs/landsat7/landsat7_2015_04_15_03_06_52.tif\r\n",
      "-rw-rw-r-- 1 localuser localuser 14M Jan 12 04:13 output/geotiffs/landsat7/landsat7_2015_05_01_03_06_58.tif\r\n",
      "-rw-rw-r-- 1 localuser localuser 14M Jan 12 04:13 output/geotiffs/landsat7/landsat7_2015_05_17_03_07_06.tif\r\n",
      "-rw-rw-r-- 1 localuser localuser 14M Jan 12 04:13 output/geotiffs/landsat7/landsat7_2015_06_02_03_07_11.tif\r\n",
      "-rw-rw-r-- 1 localuser localuser 14M Jan 12 04:13 output/geotiffs/landsat7/landsat7_2015_08_05_03_07_28.tif\r\n",
      "-rw-rw-r-- 1 localuser localuser 14M Jan 12 04:13 output/geotiffs/landsat7/landsat7_2015_08_21_03_07_30.tif\r\n",
      "-rw-rw-r-- 1 localuser localuser 14M Jan 12 04:13 output/geotiffs/landsat7/landsat7_2015_09_06_03_07_32.tif\r\n",
      "-rw-rw-r-- 1 localuser localuser 14M Jan 12 04:13 output/geotiffs/landsat7/landsat7_2015_10_08_03_07_43.tif\r\n",
      "-rw-rw-r-- 1 localuser localuser 14M Jan 12 04:13 output/geotiffs/landsat7/landsat7_2015_10_24_03_08_01.tif\r\n",
      "-rw-rw-r-- 1 localuser localuser 14M Jan 12 04:13 output/geotiffs/landsat7/landsat7_2015_11_09_03_08_15.tif\r\n",
      "-rw-rw-r-- 1 localuser localuser 14M Jan 12 04:13 output/geotiffs/landsat7/landsat7_2015_11_25_03_08_31.tif\r\n",
      "-rw-rw-r-- 1 localuser localuser 14M Jan 12 04:13 output/geotiffs/landsat7/landsat7_2015_12_11_03_08_46.tif\r\n",
      "-rw-rw-r-- 1 localuser localuser 14M Jan 12 04:13 output/geotiffs/landsat7/landsat7_2015_12_27_03_08_59.tif\r\n"
     ]
    }
   ],
   "source": [
    "if platform == 'LANDSAT_7':\n",
    "    !ls -lah output/geotiffs/landsat7/*.tif\n",
    "else:\n",
    "    !ls -lah output/geotiffs/landsat8/*.tif"
   ]
  },
  {
   "cell_type": "markdown",
   "metadata": {},
   "source": [
    "Sanity check using `gdalinfo` to make sure that all of our bands exist    ."
   ]
  },
  {
   "cell_type": "code",
   "execution_count": 24,
   "metadata": {
    "scrolled": false
   },
   "outputs": [
    {
     "name": "stdout",
     "output_type": "stream",
     "text": [
      "Driver: GTiff/GeoTIFF\r\n",
      "Files: output/geotiffs/landsat7/landsat7_2015_01_09_03_06_13.tif\r\n",
      "Size is 483, 446\r\n",
      "Coordinate System is:\r\n",
      "GEOGCRS[\"WGS 84\",\r\n",
      "    DATUM[\"World Geodetic System 1984\",\r\n",
      "        ELLIPSOID[\"WGS 84\",6378137,298.257223563,\r\n",
      "            LENGTHUNIT[\"metre\",1]]],\r\n",
      "    PRIMEM[\"Greenwich\",0,\r\n",
      "        ANGLEUNIT[\"degree\",0.0174532925199433]],\r\n",
      "    CS[ellipsoidal,2],\r\n",
      "        AXIS[\"geodetic latitude (Lat)\",north,\r\n",
      "            ORDER[1],\r\n",
      "            ANGLEUNIT[\"degree\",0.0174532925199433]],\r\n",
      "        AXIS[\"geodetic longitude (Lon)\",east,\r\n",
      "            ORDER[2],\r\n",
      "            ANGLEUNIT[\"degree\",0.0174532925199433]],\r\n",
      "    USAGE[\r\n",
      "        SCOPE[\"unknown\"],\r\n",
      "        AREA[\"World\"],\r\n",
      "        BBOX[-90,-180,90,180]],\r\n",
      "    ID[\"EPSG\",4326]]\r\n",
      "Data axis to CRS axis mapping: 2,1\r\n",
      "Origin = (108.020032379927088,12.299867617463660)\r\n",
      "Pixel Size = (0.000268936625432,-0.000268890337287)\r\n",
      "Metadata:\r\n",
      "  AREA_OR_POINT=Area\r\n",
      "Image Structure Metadata:\r\n",
      "  INTERLEAVE=PIXEL\r\n",
      "Corner Coordinates:\r\n",
      "Upper Left  ( 108.0200324,  12.2998676) (108d 1'12.12\"E, 12d17'59.52\"N)\r\n",
      "Lower Left  ( 108.0200324,  12.1799425) (108d 1'12.12\"E, 12d10'47.79\"N)\r\n",
      "Upper Right ( 108.1499288,  12.2998676) (108d 8'59.74\"E, 12d17'59.52\"N)\r\n",
      "Lower Right ( 108.1499288,  12.1799425) (108d 8'59.74\"E, 12d10'47.79\"N)\r\n",
      "Center      ( 108.0849806,  12.2399051) (108d 5' 5.93\"E, 12d14'23.66\"N)\r\n",
      "Band 1 Block=483x1 Type=Float32, ColorInterp=Gray\r\n",
      "  NoData Value=-9999\r\n",
      "Band 2 Block=483x1 Type=Float32, ColorInterp=Undefined\r\n",
      "  NoData Value=-9999\r\n",
      "Band 3 Block=483x1 Type=Float32, ColorInterp=Undefined\r\n",
      "  NoData Value=-9999\r\n",
      "Band 4 Block=483x1 Type=Float32, ColorInterp=Undefined\r\n",
      "  NoData Value=-9999\r\n",
      "Band 5 Block=483x1 Type=Float32, ColorInterp=Undefined\r\n",
      "  NoData Value=-9999\r\n",
      "Band 6 Block=483x1 Type=Float32, ColorInterp=Undefined\r\n",
      "  NoData Value=-9999\r\n",
      "Band 7 Block=483x1 Type=Float32, ColorInterp=Undefined\r\n",
      "  NoData Value=-9999\r\n",
      "Band 8 Block=483x1 Type=Float32, ColorInterp=Undefined\r\n",
      "  NoData Value=-9999\r\n",
      "Band 9 Block=483x1 Type=Float32, ColorInterp=Undefined\r\n",
      "  NoData Value=-9999\r\n",
      "Band 10 Block=483x1 Type=Float32, ColorInterp=Undefined\r\n",
      "  NoData Value=-9999\r\n",
      "Band 11 Block=483x1 Type=Float32, ColorInterp=Undefined\r\n",
      "  NoData Value=-9999\r\n",
      "Band 12 Block=483x1 Type=Float32, ColorInterp=Undefined\r\n",
      "  NoData Value=-9999\r\n",
      "Band 13 Block=483x1 Type=Float32, ColorInterp=Undefined\r\n",
      "  NoData Value=-9999\r\n",
      "Band 14 Block=483x1 Type=Float32, ColorInterp=Undefined\r\n",
      "  NoData Value=-9999\r\n",
      "Band 15 Block=483x1 Type=Float32, ColorInterp=Undefined\r\n",
      "  NoData Value=-9999\r\n",
      "Band 16 Block=483x1 Type=Float32, ColorInterp=Undefined\r\n",
      "  NoData Value=-9999\r\n"
     ]
    }
   ],
   "source": [
    "if platform == 'LANDSAT_7':\n",
    "    !gdalinfo output/geotiffs/landsat7/landsat7_2015_01_09_03_06_13.tif\n",
    "else:\n",
    "    !gdalinfo output/geotiffs/landsat8/landsat8_2015_01_01_03_07_41.tif"
   ]
  },
  {
   "cell_type": "markdown",
   "metadata": {},
   "source": [
    "Zip all GeoTIFFs."
   ]
  },
  {
   "cell_type": "code",
   "execution_count": 25,
   "metadata": {},
   "outputs": [
    {
     "name": "stdout",
     "output_type": "stream",
     "text": [
      "output/geotiffs/landsat7/landsat7_2015_01_09_03_06_13.tif\n",
      "output/geotiffs/landsat7/landsat7_2015_01_25_03_06_16.tif\n",
      "output/geotiffs/landsat7/landsat7_2015_02_10_03_06_21.tif\n",
      "output/geotiffs/landsat7/landsat7_2015_02_26_03_06_30.tif\n",
      "output/geotiffs/landsat7/landsat7_2015_03_14_03_06_36.tif\n",
      "output/geotiffs/landsat7/landsat7_2015_03_30_03_06_43.tif\n",
      "output/geotiffs/landsat7/landsat7_2015_04_15_03_06_52.tif\n",
      "output/geotiffs/landsat7/landsat7_2015_05_01_03_06_58.tif\n",
      "output/geotiffs/landsat7/landsat7_2015_05_17_03_07_06.tif\n",
      "output/geotiffs/landsat7/landsat7_2015_06_02_03_07_11.tif\n",
      "output/geotiffs/landsat7/landsat7_2015_08_05_03_07_28.tif\n",
      "output/geotiffs/landsat7/landsat7_2015_08_21_03_07_30.tif\n",
      "output/geotiffs/landsat7/landsat7_2015_09_06_03_07_32.tif\n",
      "output/geotiffs/landsat7/landsat7_2015_10_08_03_07_43.tif\n",
      "output/geotiffs/landsat7/landsat7_2015_10_24_03_08_01.tif\n",
      "output/geotiffs/landsat7/landsat7_2015_11_09_03_08_15.tif\n",
      "output/geotiffs/landsat7/landsat7_2015_11_25_03_08_31.tif\n",
      "output/geotiffs/landsat7/landsat7_2015_12_11_03_08_46.tif\n",
      "output/geotiffs/landsat7/landsat7_2015_12_27_03_08_59.tif\n"
     ]
    }
   ],
   "source": [
    "if platform == 'LANDSAT_7':\n",
    "    !tar -cvzf output/geotiffs/landsat7/landsat_7.tar.gz output/geotiffs/landsat7/*.tif\n",
    "else:\n",
    "    !tar -cvzf output/geotiffs/landsat8/landsat_8.tar.gz output/geotiffs/landsat8/*.tif"
   ]
  },
  {
   "cell_type": "markdown",
   "metadata": {},
   "source": [
    "### <span id=\"export_netcdf\">Export to NetCDF [&#9652;](#top)</span>  "
   ]
  },
  {
   "cell_type": "markdown",
   "metadata": {},
   "source": [
    "Export all acquisitions together as a single NetCDF."
   ]
  },
  {
   "cell_type": "code",
   "execution_count": 26,
   "metadata": {},
   "outputs": [
    {
     "data": {
      "text/html": [
       "<pre>&lt;xarray.Dataset&gt;\n",
       "Dimensions:      (latitude: 446, longitude: 483, time: 19)\n",
       "Coordinates:\n",
       "  * time         (time) datetime64[ns] 2015-01-09T03:06:13 ... 2015-12-27T03:08:59\n",
       "  * latitude     (latitude) float64 12.3 12.3 12.3 12.3 ... 12.18 12.18 12.18\n",
       "  * longitude    (longitude) float64 108.0 108.0 108.0 ... 108.1 108.1 108.1\n",
       "Data variables:\n",
       "    red          (time, latitude, longitude) int16 912 1008 1125 ... 614 464 427\n",
       "    green        (time, latitude, longitude) int16 674 779 842 ... 508 487 467\n",
       "    blue         (time, latitude, longitude) int16 493 473 574 ... 390 293 312\n",
       "    nir          (time, latitude, longitude) int16 2500 2544 2587 ... 2772 2731\n",
       "    swir1        (time, latitude, longitude) int16 2740 3002 3054 ... 2095 1993\n",
       "    swir2        (time, latitude, longitude) int16 1678 1982 2037 ... 1099 991\n",
       "    pixel_qa     (time, latitude, longitude) int32 66 66 66 66 ... 66 66 66 66\n",
       "    clear_mask   (time, latitude, longitude) bool True True True ... True True\n",
       "    water_mask   (time, latitude, longitude) bool False False ... False False\n",
       "    shadow_mask  (time, latitude, longitude) bool False False ... False False\n",
       "    EVI          (time, latitude, longitude) float64 0.3714 0.3044 ... 0.78\n",
       "    NDBI         (time, latitude, longitude) float64 -0.1967 -0.1242 ... -0.4675\n",
       "    NDVI         (time, latitude, longitude) float64 0.4654 0.4324 ... 0.7296\n",
       "    NDWI         (time, latitude, longitude) float64 -0.5753 -0.5311 ... -0.7079\n",
       "    wofs         (time, latitude, longitude) float64 0.0 0.0 0.0 ... 0.0 0.0 0.0\n",
       "    tsm          (time, latitude, longitude) float64 0.0 0.0 0.0 ... 0.0 0.0 0.0\n",
       "Attributes:\n",
       "    crs:      EPSG:4326</pre>"
      ],
      "text/plain": [
       "<xarray.Dataset>\n",
       "Dimensions:      (latitude: 446, longitude: 483, time: 19)\n",
       "Coordinates:\n",
       "  * time         (time) datetime64[ns] 2015-01-09T03:06:13 ... 2015-12-27T03:08:59\n",
       "  * latitude     (latitude) float64 12.3 12.3 12.3 12.3 ... 12.18 12.18 12.18\n",
       "  * longitude    (longitude) float64 108.0 108.0 108.0 ... 108.1 108.1 108.1\n",
       "Data variables:\n",
       "    red          (time, latitude, longitude) int16 912 1008 1125 ... 614 464 427\n",
       "    green        (time, latitude, longitude) int16 674 779 842 ... 508 487 467\n",
       "    blue         (time, latitude, longitude) int16 493 473 574 ... 390 293 312\n",
       "    nir          (time, latitude, longitude) int16 2500 2544 2587 ... 2772 2731\n",
       "    swir1        (time, latitude, longitude) int16 2740 3002 3054 ... 2095 1993\n",
       "    swir2        (time, latitude, longitude) int16 1678 1982 2037 ... 1099 991\n",
       "    pixel_qa     (time, latitude, longitude) int32 66 66 66 66 ... 66 66 66 66\n",
       "    clear_mask   (time, latitude, longitude) bool True True True ... True True\n",
       "    water_mask   (time, latitude, longitude) bool False False ... False False\n",
       "    shadow_mask  (time, latitude, longitude) bool False False ... False False\n",
       "    EVI          (time, latitude, longitude) float64 0.3714 0.3044 ... 0.78\n",
       "    NDBI         (time, latitude, longitude) float64 -0.1967 -0.1242 ... -0.4675\n",
       "    NDVI         (time, latitude, longitude) float64 0.4654 0.4324 ... 0.7296\n",
       "    NDWI         (time, latitude, longitude) float64 -0.5753 -0.5311 ... -0.7079\n",
       "    wofs         (time, latitude, longitude) float64 0.0 0.0 0.0 ... 0.0 0.0 0.0\n",
       "    tsm          (time, latitude, longitude) float64 0.0 0.0 0.0 ... 0.0 0.0 0.0\n",
       "Attributes:\n",
       "    crs:      EPSG:4326"
      ]
     },
     "execution_count": 26,
     "metadata": {},
     "output_type": "execute_result"
    }
   ],
   "source": [
    "combined_dataset"
   ]
  },
  {
   "cell_type": "code",
   "execution_count": 27,
   "metadata": {},
   "outputs": [],
   "source": [
    "def export_xarray_to_netcdf(data, path):\n",
    "    \"\"\"\n",
    "    Exports an xarray object as a single NetCDF file.\n",
    "\n",
    "    Parameters\n",
    "    ----------\n",
    "    data: xarray.Dataset or xarray.DataArray\n",
    "        The Dataset or DataArray to export.\n",
    "    path: str\n",
    "        The path to store the exported NetCDF file at.\n",
    "        Must include the filename and \".nc\" extension.\n",
    "    \"\"\"\n",
    "    # Record original attributes to restore after export.\n",
    "    orig_data_attrs = data.attrs.copy()\n",
    "    orig_data_var_attrs = {}\n",
    "    if isinstance(data, xr.Dataset):\n",
    "        for data_var in data.data_vars:\n",
    "            orig_data_var_attrs[data_var] = data[data_var].attrs.copy()\n",
    "\n",
    "    # If present, convert the CRS object from the Data Cube to a string.\n",
    "    # String and numeric attributes are retained.\n",
    "    # All other attributes are removed.\n",
    "    def handle_attr(data, attr):\n",
    "        if attr == 'crs' and not isinstance(data.attrs[attr], str):\n",
    "            data.attrs[attr] = data.crs.crs_str\n",
    "        elif not isinstance(data.attrs[attr], (str, int, float)):\n",
    "            del data.attrs[attr]\n",
    "\n",
    "    # To be able to call `xarray.Dataset.to_netcdf()`, convert the CRS\n",
    "    # object from the Data Cube to a string, retain string and numeric\n",
    "    # attributes, and remove all other attributes.\n",
    "    for attr in data.attrs:\n",
    "        handle_attr(data, attr)\n",
    "    if isinstance(data, xr.Dataset):\n",
    "        for data_var in data.data_vars:\n",
    "            for attr in list(data[data_var].attrs):\n",
    "                handle_attr(data[data_var], attr)\n",
    "    # Move units from the time coord attributes to its encoding.\n",
    "    if 'time' in data.coords:\n",
    "        orig_time_attrs = data.time.attrs.copy()\n",
    "        if 'units' in data.time.attrs:\n",
    "            time_units = data.time.attrs['units']\n",
    "            del data.time.attrs['units']\n",
    "            data.time.encoding['units'] = time_units\n",
    "    # Export to NetCDF.\n",
    "    data.to_netcdf(path)\n",
    "    # Restore original attributes.\n",
    "    data.attrs = orig_data_attrs\n",
    "    if 'time' in data.coords:\n",
    "        data.time.attrs = orig_time_attrs\n",
    "    if isinstance(data, xr.Dataset):\n",
    "        for data_var in data.data_vars:\n",
    "            data[data_var].attrs = orig_data_var_attrs[data_var]"
   ]
  },
  {
   "cell_type": "code",
   "execution_count": 28,
   "metadata": {
    "scrolled": false
   },
   "outputs": [],
   "source": [
    "import os\n",
    "# from utils.data_cube_utilities.import_export import export_xarray_to_netcdf\n",
    "\n",
    "# Ensure the output directory exists before writing to it.\n",
    "ls_num = 7 if platform=='LANDSAT_7' else 8\n",
    "output_dir = f\"output/netcdfs/landsat{ls_num}\"\n",
    "if not os.path.exists(output_dir):\n",
    "    os.mkdir(output_dir)\n",
    "\n",
    "output_file_path = output_dir + f\"/ls{ls_num}_netcdf_example.nc\"\n",
    "# Remove the file if it exists to avoid an error.\n",
    "# if os.path.isfile(output_file_path):\n",
    "#     os.remove(output_file_path)\n",
    "export_xarray_to_netcdf(combined_dataset, output_file_path)"
   ]
  },
  {
   "cell_type": "markdown",
   "metadata": {},
   "source": [
    "Sanity check using `gdalinfo` to make sure that all of our bands exist  .  "
   ]
  },
  {
   "cell_type": "code",
   "execution_count": 29,
   "metadata": {
    "scrolled": false
   },
   "outputs": [
    {
     "name": "stdout",
     "output_type": "stream",
     "text": [
      "Warning 1: No UNIDATA NC_GLOBAL:Conventions attribute\r\n",
      "Driver: netCDF/Network Common Data Format\r\n",
      "Files: output/netcdfs/landsat7/ls7_netcdf_example.nc\r\n",
      "Size is 512, 512\r\n",
      "Metadata:\r\n",
      "  NC_GLOBAL#crs=EPSG:4326\r\n",
      "Subdatasets:\r\n",
      "  SUBDATASET_1_NAME=NETCDF:\"output/netcdfs/landsat7/ls7_netcdf_example.nc\":red\r\n",
      "  SUBDATASET_1_DESC=[19x446x483] red (16-bit integer)\r\n",
      "  SUBDATASET_2_NAME=NETCDF:\"output/netcdfs/landsat7/ls7_netcdf_example.nc\":green\r\n",
      "  SUBDATASET_2_DESC=[19x446x483] green (16-bit integer)\r\n",
      "  SUBDATASET_3_NAME=NETCDF:\"output/netcdfs/landsat7/ls7_netcdf_example.nc\":blue\r\n",
      "  SUBDATASET_3_DESC=[19x446x483] blue (16-bit integer)\r\n",
      "  SUBDATASET_4_NAME=NETCDF:\"output/netcdfs/landsat7/ls7_netcdf_example.nc\":nir\r\n",
      "  SUBDATASET_4_DESC=[19x446x483] nir (16-bit integer)\r\n",
      "  SUBDATASET_5_NAME=NETCDF:\"output/netcdfs/landsat7/ls7_netcdf_example.nc\":swir1\r\n",
      "  SUBDATASET_5_DESC=[19x446x483] swir1 (16-bit integer)\r\n",
      "  SUBDATASET_6_NAME=NETCDF:\"output/netcdfs/landsat7/ls7_netcdf_example.nc\":swir2\r\n",
      "  SUBDATASET_6_DESC=[19x446x483] swir2 (16-bit integer)\r\n",
      "  SUBDATASET_7_NAME=NETCDF:\"output/netcdfs/landsat7/ls7_netcdf_example.nc\":pixel_qa\r\n",
      "  SUBDATASET_7_DESC=[19x446x483] pixel_qa (32-bit integer)\r\n",
      "  SUBDATASET_8_NAME=NETCDF:\"output/netcdfs/landsat7/ls7_netcdf_example.nc\":clear_mask\r\n",
      "  SUBDATASET_8_DESC=[19x446x483] clear_mask (8-bit integer)\r\n",
      "  SUBDATASET_9_NAME=NETCDF:\"output/netcdfs/landsat7/ls7_netcdf_example.nc\":water_mask\r\n",
      "  SUBDATASET_9_DESC=[19x446x483] water_mask (8-bit integer)\r\n",
      "  SUBDATASET_10_NAME=NETCDF:\"output/netcdfs/landsat7/ls7_netcdf_example.nc\":shadow_mask\r\n",
      "  SUBDATASET_10_DESC=[19x446x483] shadow_mask (8-bit integer)\r\n",
      "  SUBDATASET_11_NAME=NETCDF:\"output/netcdfs/landsat7/ls7_netcdf_example.nc\":EVI\r\n",
      "  SUBDATASET_11_DESC=[19x446x483] EVI (64-bit floating-point)\r\n",
      "  SUBDATASET_12_NAME=NETCDF:\"output/netcdfs/landsat7/ls7_netcdf_example.nc\":NDBI\r\n",
      "  SUBDATASET_12_DESC=[19x446x483] NDBI (64-bit floating-point)\r\n",
      "  SUBDATASET_13_NAME=NETCDF:\"output/netcdfs/landsat7/ls7_netcdf_example.nc\":NDVI\r\n",
      "  SUBDATASET_13_DESC=[19x446x483] NDVI (64-bit floating-point)\r\n",
      "  SUBDATASET_14_NAME=NETCDF:\"output/netcdfs/landsat7/ls7_netcdf_example.nc\":NDWI\r\n",
      "  SUBDATASET_14_DESC=[19x446x483] NDWI (64-bit floating-point)\r\n",
      "  SUBDATASET_15_NAME=NETCDF:\"output/netcdfs/landsat7/ls7_netcdf_example.nc\":wofs\r\n",
      "  SUBDATASET_15_DESC=[19x446x483] wofs (64-bit floating-point)\r\n",
      "  SUBDATASET_16_NAME=NETCDF:\"output/netcdfs/landsat7/ls7_netcdf_example.nc\":tsm\r\n",
      "  SUBDATASET_16_DESC=[19x446x483] tsm (64-bit floating-point)\r\n",
      "Corner Coordinates:\r\n",
      "Upper Left  (    0.0,    0.0)\r\n",
      "Lower Left  (    0.0,  512.0)\r\n",
      "Upper Right (  512.0,    0.0)\r\n",
      "Lower Right (  512.0,  512.0)\r\n",
      "Center      (  256.0,  256.0)\r\n"
     ]
    }
   ],
   "source": [
    "if platform == 'LANDSAT_7':\n",
    "    !gdalinfo output/netcdfs/landsat7/ls7_netcdf_example.nc\n",
    "else:\n",
    "    !gdalinfo output/netcdfs/landsat8/ls8_netcdf_example.nc"
   ]
  }
 ],
 "metadata": {
  "kernelspec": {
   "display_name": "Python 3",
   "language": "python",
   "name": "python3"
  },
  "language_info": {
   "codemirror_mode": {
    "name": "ipython",
    "version": 3
   },
   "file_extension": ".py",
   "mimetype": "text/x-python",
   "name": "python",
   "nbconvert_exporter": "python",
   "pygments_lexer": "ipython3",
   "version": "3.6.9"
  }
 },
 "nbformat": 4,
 "nbformat_minor": 2
}
